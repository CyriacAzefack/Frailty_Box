{
 "cells": [
  {
   "cell_type": "code",
   "execution_count": 1,
   "metadata": {},
   "outputs": [],
   "source": [
    "import pandas as pd\n",
    "from AutoEncoder.AutoEncoder import AE_Model\n",
    "import tensorflow as tf\n",
    "import numpy as np\n",
    "import os, fnmatch\n",
    "import random\n",
    "import glob\n",
    "import matplotlib.pyplot as plt\n",
    "import tqdm\n",
    "%matplotlib inline"
   ]
  },
  {
   "cell_type": "code",
   "execution_count": 21,
   "metadata": {},
   "outputs": [],
   "source": [
    "dataset_name = 'hh113'\n",
    "input_dir = f'./output/{dataset_name}/Simulation/DYNAMIC_step_5mn/Activity_Manager'\n",
    "\n",
    "data = pd.DataFrame()\n",
    "\n",
    "pattern = 'count_histogram.csv'\n",
    "\n",
    "for ROOT,DIR,FILES in os.walk(input_dir):\n",
    "    for file in FILES:\n",
    "        if file == pattern:\n",
    "            df = pd.read_csv(f'{ROOT}/{file}', delimiter=';')\n",
    "            data = data.append(df)\n",
    "\n",
    "data.drop(['tw_id'], inplace=True, axis=1)\n",
    "\n",
    "data.fillna(0, inplace=True)\n",
    "\n",
    "data.drop_duplicates(inplace=True)"
   ]
  },
  {
   "cell_type": "code",
   "execution_count": 22,
   "metadata": {},
   "outputs": [],
   "source": [
    "# Remove Rows with only zeros\n",
    "# data = data[~np.all(data == 0, axis=1)]\n"
   ]
  },
  {
   "cell_type": "markdown",
   "metadata": {},
   "source": [
    "# Parameters"
   ]
  },
  {
   "cell_type": "code",
   "execution_count": 23,
   "metadata": {},
   "outputs": [],
   "source": [
    "train_ratio = 0.8\n",
    "latent_dim = 2"
   ]
  },
  {
   "cell_type": "code",
   "execution_count": 24,
   "metadata": {},
   "outputs": [
    {
     "name": "stdout",
     "output_type": "stream",
     "text": [
      "(8885, 288)\n"
     ]
    }
   ],
   "source": [
    "height = 1\n",
    "width = data.shape[1]\n",
    "\n",
    "data = data.values\n",
    "print(data.shape)\n",
    "np.random.shuffle(data)"
   ]
  },
  {
   "cell_type": "code",
   "execution_count": 25,
   "metadata": {},
   "outputs": [
    {
     "name": "stdout",
     "output_type": "stream",
     "text": [
      "(7108, 1, 288)\n"
     ]
    },
    {
     "data": {
      "text/plain": [
       "[<matplotlib.lines.Line2D at 0x25dcda36f08>]"
      ]
     },
     "execution_count": 25,
     "metadata": {},
     "output_type": "execute_result"
    },
    {
     "data": {
      "image/png": "[encoded data removed]",
      "text/plain": [
       "<Figure size 432x288 with 1 Axes>"
      ]
     },
     "metadata": {
      "needs_background": "light"
     },
     "output_type": "display_data"
    }
   ],
   "source": [
    "\n",
    "dataset = data.reshape(data.shape[0], height, width)\n",
    "\n",
    "\n",
    "train_size = int(data.shape[0] * train_ratio)\n",
    "\n",
    "train_data = dataset[:train_size]\n",
    "test_data = dataset[train_size:]\n",
    "\n",
    "train_data.shape[0]\n",
    "\n",
    "print(train_data.shape)\n",
    "plt.plot(train_data[134][0])"
   ]
  },
  {
   "cell_type": "markdown",
   "metadata": {},
   "source": [
    "# AE Model"
   ]
  },
  {
   "cell_type": "code",
   "execution_count": 26,
   "metadata": {},
   "outputs": [],
   "source": [
    "epochs = 1000\n",
    "batch_size = 10\n",
    "\n",
    "model = AE_Model(input_width=width, input_height=height, latent_dim=latent_dim)"
   ]
  },
  {
   "cell_type": "code",
   "execution_count": null,
   "metadata": {
    "scrolled": true
   },
   "outputs": [
    {
     "name": "stdout",
     "output_type": "stream",
     "text": [
      "Train on 7108 samples, validate on 1777 samples\n",
      "Epoch 1/1000\n",
      "7108/7108 [==============================] - ETA: 20:54 - loss: 0.40 - ETA: 1:30 - loss: 0.3465 - ETA: 51s - loss: 0.337 - ETA: 34s - loss: 0.34 - ETA: 25s - loss: 0.34 - ETA: 20s - loss: 0.34 - ETA: 16s - loss: 0.34 - ETA: 14s - loss: 0.34 - ETA: 12s - loss: 0.34 - ETA: 10s - loss: 0.34 - ETA: 9s - loss: 0.3440 - ETA: 8s - loss: 0.344 - ETA: 7s - loss: 0.343 - ETA: 7s - loss: 0.344 - ETA: 6s - loss: 0.345 - ETA: 6s - loss: 0.347 - ETA: 5s - loss: 0.347 - ETA: 5s - loss: 0.348 - ETA: 4s - loss: 0.348 - ETA: 4s - loss: 0.347 - ETA: 4s - loss: 0.347 - ETA: 4s - loss: 0.349 - ETA: 3s - loss: 0.349 - ETA: 3s - loss: 0.347 - ETA: 3s - loss: 0.347 - ETA: 3s - loss: 0.346 - ETA: 2s - loss: 0.345 - ETA: 2s - loss: 0.345 - ETA: 2s - loss: 0.344 - ETA: 2s - loss: 0.343 - ETA: 2s - loss: 0.343 - ETA: 2s - loss: 0.342 - ETA: 1s - loss: 0.341 - ETA: 1s - loss: 0.340 - ETA: 1s - loss: 0.341 - ETA: 1s - loss: 0.342 - ETA: 1s - loss: 0.342 - ETA: 1s - loss: 0.341 - ETA: 1s - loss: 0.341 - ETA: 1s - loss: 0.341 - ETA: 0s - loss: 0.341 - ETA: 0s - loss: 0.341 - ETA: 0s - loss: 0.340 - ETA: 0s - loss: 0.341 - ETA: 0s - loss: 0.341 - ETA: 0s - loss: 0.340 - ETA: 0s - loss: 0.340 - ETA: 0s - loss: 0.340 - ETA: 0s - loss: 0.339 - ETA: 0s - loss: 0.339 - 5s 716us/sample - loss: 0.3388 - val_loss: 0.3273\n",
      "Epoch 2/1000\n",
      "7108/7108 [==============================] - ETA: 5s - loss: 0.266 - ETA: 2s - loss: 0.335 - ETA: 2s - loss: 0.337 - ETA: 2s - loss: 0.321 - ETA: 2s - loss: 0.326 - ETA: 2s - loss: 0.322 - ETA: 2s - loss: 0.322 - ETA: 2s - loss: 0.322 - ETA: 2s - loss: 0.317 - ETA: 2s - loss: 0.315 - ETA: 2s - loss: 0.315 - ETA: 2s - loss: 0.315 - ETA: 2s - loss: 0.315 - ETA: 1s - loss: 0.314 - ETA: 1s - loss: 0.314 - ETA: 1s - loss: 0.312 - ETA: 1s - loss: 0.311 - ETA: 1s - loss: 0.311 - ETA: 1s - loss: 0.309 - ETA: 1s - loss: 0.309 - ETA: 1s - loss: 0.309 - ETA: 1s - loss: 0.308 - ETA: 1s - loss: 0.307 - ETA: 1s - loss: 0.306 - ETA: 1s - loss: 0.307 - ETA: 1s - loss: 0.307 - ETA: 1s - loss: 0.307 - ETA: 1s - loss: 0.307 - ETA: 1s - loss: 0.308 - ETA: 1s - loss: 0.307 - ETA: 1s - loss: 0.307 - ETA: 0s - loss: 0.307 - ETA: 0s - loss: 0.307 - ETA: 0s - loss: 0.308 - ETA: 0s - loss: 0.309 - ETA: 0s - loss: 0.311 - ETA: 0s - loss: 0.311 - ETA: 0s - loss: 0.313 - ETA: 0s - loss: 0.313 - ETA: 0s - loss: 0.314 - ETA: 0s - loss: 0.315 - ETA: 0s - loss: 0.316 - ETA: 0s - loss: 0.315 - ETA: 0s - loss: 0.315 - ETA: 0s - loss: 0.315 - ETA: 0s - loss: 0.316 - ETA: 0s - loss: 0.315 - ETA: 0s - loss: 0.316 - ETA: 0s - loss: 0.316 - 3s 420us/sample - loss: 0.3163 - val_loss: 0.3220\n",
      "Epoch 3/1000\n",
      "7108/7108 [==============================] - ETA: 5s - loss: 0.399 - ETA: 2s - loss: 0.310 - ETA: 2s - loss: 0.321 - ETA: 2s - loss: 0.307 - ETA: 2s - loss: 0.314 - ETA: 2s - loss: 0.315 - ETA: 2s - loss: 0.318 - ETA: 2s - loss: 0.320 - ETA: 2s - loss: 0.320 - ETA: 2s - loss: 0.319 - ETA: 2s - loss: 0.318 - ETA: 2s - loss: 0.319 - ETA: 2s - loss: 0.316 - ETA: 1s - loss: 0.317 - ETA: 1s - loss: 0.318 - ETA: 1s - loss: 0.315 - ETA: 1s - loss: 0.313 - ETA: 1s - loss: 0.313 - ETA: 1s - loss: 0.313 - ETA: 1s - loss: 0.313 - ETA: 1s - loss: 0.314 - ETA: 1s - loss: 0.314 - ETA: 1s - loss: 0.315 - ETA: 1s - loss: 0.313 - ETA: 1s - loss: 0.314 - ETA: 1s - loss: 0.314 - ETA: 1s - loss: 0.314 - ETA: 1s - loss: 0.314 - ETA: 1s - loss: 0.313 - ETA: 1s - loss: 0.313 - ETA: 1s - loss: 0.313 - ETA: 0s - loss: 0.313 - ETA: 0s - loss: 0.313 - ETA: 0s - loss: 0.312 - ETA: 0s - loss: 0.313 - ETA: 0s - loss: 0.314 - ETA: 0s - loss: 0.314 - ETA: 0s - loss: 0.313 - ETA: 0s - loss: 0.313 - ETA: 0s - loss: 0.313 - ETA: 0s - loss: 0.313 - ETA: 0s - loss: 0.312 - ETA: 0s - loss: 0.313 - ETA: 0s - loss: 0.313 - ETA: 0s - loss: 0.312 - ETA: 0s - loss: 0.312 - ETA: 0s - loss: 0.313 - ETA: 0s - loss: 0.312 - ETA: 0s - loss: 0.312 - ETA: 0s - loss: 0.312 - ETA: 0s - loss: 0.312 - 3s 432us/sample - loss: 0.3121 - val_loss: 0.3039\n",
      "Epoch 4/1000\n",
      "7108/7108 [==============================] - ETA: 4s - loss: 0.265 - ETA: 2s - loss: 0.304 - ETA: 2s - loss: 0.315 - ETA: 2s - loss: 0.315 - ETA: 2s - loss: 0.305 - ETA: 2s - loss: 0.304 - ETA: 2s - loss: 0.297 - ETA: 2s - loss: 0.298 - ETA: 2s - loss: 0.300 - ETA: 2s - loss: 0.300 - ETA: 2s - loss: 0.300 - ETA: 2s - loss: 0.300 - ETA: 1s - loss: 0.300 - ETA: 1s - loss: 0.302 - ETA: 1s - loss: 0.301 - ETA: 1s - loss: 0.301 - ETA: 1s - loss: 0.302 - ETA: 1s - loss: 0.302 - ETA: 1s - loss: 0.302 - ETA: 1s - loss: 0.304 - ETA: 1s - loss: 0.305 - ETA: 1s - loss: 0.305 - ETA: 1s - loss: 0.304 - ETA: 1s - loss: 0.304 - ETA: 1s - loss: 0.304 - ETA: 1s - loss: 0.304 - ETA: 1s - loss: 0.304 - ETA: 1s - loss: 0.303 - ETA: 1s - loss: 0.304 - ETA: 1s - loss: 0.303 - ETA: 1s - loss: 0.303 - ETA: 1s - loss: 0.302 - ETA: 1s - loss: 0.302 - ETA: 1s - loss: 0.302 - ETA: 1s - loss: 0.303 - ETA: 1s - loss: 0.304 - ETA: 0s - loss: 0.304 - ETA: 0s - loss: 0.304 - ETA: 0s - loss: 0.303 - ETA: 0s - loss: 0.303 - ETA: 0s - loss: 0.303 - ETA: 0s - loss: 0.302 - ETA: 0s - loss: 0.302 - ETA: 0s - loss: 0.302 - ETA: 0s - loss: 0.303 - ETA: 0s - loss: 0.303 - ETA: 0s - loss: 0.303 - ETA: 0s - loss: 0.303 - ETA: 0s - loss: 0.303 - ETA: 0s - loss: 0.304 - ETA: 0s - loss: 0.304 - ETA: 0s - loss: 0.304 - ETA: 0s - loss: 0.304 - ETA: 0s - loss: 0.304 - ETA: 0s - loss: 0.305 - ETA: 0s - loss: 0.304 - ETA: 0s - loss: 0.304 - ETA: 0s - loss: 0.304 - 4s 629us/sample - loss: 0.3044 - val_loss: 0.2982\n",
      "Epoch 5/1000\n",
      "7108/7108 [==============================] - ETA: 18s - loss: 0.24 - ETA: 6s - loss: 0.2933 - ETA: 6s - loss: 0.311 - ETA: 4s - loss: 0.326 - ETA: 3s - loss: 0.317 - ETA: 3s - loss: 0.317 - ETA: 3s - loss: 0.311 - ETA: 3s - loss: 0.307 - ETA: 3s - loss: 0.306 - ETA: 3s - loss: 0.303 - ETA: 3s - loss: 0.300 - ETA: 2s - loss: 0.299 - ETA: 2s - loss: 0.298 - ETA: 2s - loss: 0.298 - ETA: 2s - loss: 0.299 - ETA: 2s - loss: 0.296 - ETA: 2s - loss: 0.296 - ETA: 2s - loss: 0.297 - ETA: 2s - loss: 0.297 - ETA: 1s - loss: 0.298 - ETA: 1s - loss: 0.297 - ETA: 1s - loss: 0.297 - ETA: 1s - loss: 0.297 - ETA: 1s - loss: 0.297 - ETA: 1s - loss: 0.296 - ETA: 1s - loss: 0.296 - ETA: 1s - loss: 0.296 - ETA: 1s - loss: 0.296 - ETA: 1s - loss: 0.296 - ETA: 1s - loss: 0.296 - ETA: 1s - loss: 0.297 - ETA: 1s - loss: 0.297 - ETA: 1s - loss: 0.296 - ETA: 1s - loss: 0.297 - ETA: 1s - loss: 0.297 - ETA: 0s - loss: 0.297 - ETA: 0s - loss: 0.297 - ETA: 0s - loss: 0.297 - ETA: 0s - loss: 0.296 - ETA: 0s - loss: 0.296 - ETA: 0s - loss: 0.296 - ETA: 0s - loss: 0.296 - ETA: 0s - loss: 0.297 - ETA: 0s - loss: 0.296 - ETA: 0s - loss: 0.296 - ETA: 0s - loss: 0.296 - ETA: 0s - loss: 0.296 - ETA: 0s - loss: 0.296 - ETA: 0s - loss: 0.297 - ETA: 0s - loss: 0.297 - ETA: 0s - loss: 0.297 - ETA: 0s - loss: 0.297 - ETA: 0s - loss: 0.298 - ETA: 0s - loss: 0.297 - ETA: 0s - loss: 0.297 - ETA: 0s - loss: 0.297 - ETA: 0s - loss: 0.297 - ETA: 0s - loss: 0.297 - ETA: 0s - loss: 0.297 - 4s 510us/sample - loss: 0.2975 - val_loss: 0.2934\n",
      "Epoch 6/1000\n"
     ]
    },
    {
     "name": "stdout",
     "output_type": "stream",
     "text": [
      "7108/7108 [==============================] - ETA: 6s - loss: 0.291 - ETA: 3s - loss: 0.280 - ETA: 2s - loss: 0.291 - ETA: 2s - loss: 0.298 - ETA: 2s - loss: 0.301 - ETA: 2s - loss: 0.300 - ETA: 2s - loss: 0.300 - ETA: 2s - loss: 0.300 - ETA: 2s - loss: 0.303 - ETA: 2s - loss: 0.303 - ETA: 2s - loss: 0.302 - ETA: 2s - loss: 0.303 - ETA: 2s - loss: 0.304 - ETA: 2s - loss: 0.302 - ETA: 2s - loss: 0.302 - ETA: 2s - loss: 0.301 - ETA: 1s - loss: 0.300 - ETA: 1s - loss: 0.300 - ETA: 1s - loss: 0.300 - ETA: 1s - loss: 0.299 - ETA: 1s - loss: 0.298 - ETA: 1s - loss: 0.297 - ETA: 1s - loss: 0.297 - ETA: 1s - loss: 0.297 - ETA: 1s - loss: 0.297 - ETA: 1s - loss: 0.297 - ETA: 1s - loss: 0.297 - ETA: 1s - loss: 0.297 - ETA: 1s - loss: 0.297 - ETA: 1s - loss: 0.297 - ETA: 1s - loss: 0.297 - ETA: 1s - loss: 0.297 - ETA: 1s - loss: 0.296 - ETA: 1s - loss: 0.296 - ETA: 1s - loss: 0.296 - ETA: 1s - loss: 0.296 - ETA: 0s - loss: 0.296 - ETA: 0s - loss: 0.296 - ETA: 0s - loss: 0.296 - ETA: 0s - loss: 0.295 - ETA: 0s - loss: 0.294 - ETA: 0s - loss: 0.294 - ETA: 0s - loss: 0.294 - ETA: 0s - loss: 0.293 - ETA: 0s - loss: 0.293 - ETA: 0s - loss: 0.293 - ETA: 0s - loss: 0.293 - ETA: 0s - loss: 0.293 - ETA: 0s - loss: 0.293 - ETA: 0s - loss: 0.292 - ETA: 0s - loss: 0.292 - ETA: 0s - loss: 0.292 - ETA: 0s - loss: 0.292 - ETA: 0s - loss: 0.292 - ETA: 0s - loss: 0.292 - 3s 464us/sample - loss: 0.2922 - val_loss: 0.2899\n",
      "Epoch 7/1000\n",
      "7108/7108 [==============================] - ETA: 2s - loss: 0.386 - ETA: 2s - loss: 0.292 - ETA: 2s - loss: 0.282 - ETA: 2s - loss: 0.282 - ETA: 2s - loss: 0.287 - ETA: 2s - loss: 0.291 - ETA: 2s - loss: 0.291 - ETA: 2s - loss: 0.290 - ETA: 2s - loss: 0.290 - ETA: 2s - loss: 0.290 - ETA: 2s - loss: 0.291 - ETA: 2s - loss: 0.291 - ETA: 2s - loss: 0.290 - ETA: 2s - loss: 0.289 - ETA: 2s - loss: 0.289 - ETA: 2s - loss: 0.290 - ETA: 2s - loss: 0.290 - ETA: 1s - loss: 0.290 - ETA: 1s - loss: 0.290 - ETA: 1s - loss: 0.290 - ETA: 1s - loss: 0.289 - ETA: 1s - loss: 0.289 - ETA: 1s - loss: 0.289 - ETA: 1s - loss: 0.290 - ETA: 1s - loss: 0.291 - ETA: 1s - loss: 0.289 - ETA: 1s - loss: 0.290 - ETA: 1s - loss: 0.289 - ETA: 1s - loss: 0.289 - ETA: 1s - loss: 0.288 - ETA: 1s - loss: 0.289 - ETA: 1s - loss: 0.289 - ETA: 1s - loss: 0.290 - ETA: 1s - loss: 0.290 - ETA: 1s - loss: 0.289 - ETA: 1s - loss: 0.289 - ETA: 1s - loss: 0.289 - ETA: 1s - loss: 0.288 - ETA: 0s - loss: 0.288 - ETA: 0s - loss: 0.289 - ETA: 0s - loss: 0.288 - ETA: 0s - loss: 0.288 - ETA: 0s - loss: 0.288 - ETA: 0s - loss: 0.289 - ETA: 0s - loss: 0.289 - ETA: 0s - loss: 0.289 - ETA: 0s - loss: 0.289 - ETA: 0s - loss: 0.289 - ETA: 0s - loss: 0.288 - ETA: 0s - loss: 0.289 - ETA: 0s - loss: 0.289 - ETA: 0s - loss: 0.289 - ETA: 0s - loss: 0.289 - ETA: 0s - loss: 0.289 - ETA: 0s - loss: 0.289 - ETA: 0s - loss: 0.290 - ETA: 0s - loss: 0.290 - 3s 475us/sample - loss: 0.2901 - val_loss: 0.2887\n",
      "Epoch 8/1000\n",
      "7108/7108 [==============================] - ETA: 5s - loss: 0.230 - ETA: 3s - loss: 0.290 - ETA: 3s - loss: 0.291 - ETA: 3s - loss: 0.279 - ETA: 2s - loss: 0.279 - ETA: 2s - loss: 0.276 - ETA: 2s - loss: 0.279 - ETA: 2s - loss: 0.281 - ETA: 2s - loss: 0.275 - ETA: 2s - loss: 0.278 - ETA: 2s - loss: 0.279 - ETA: 2s - loss: 0.279 - ETA: 2s - loss: 0.280 - ETA: 2s - loss: 0.280 - ETA: 2s - loss: 0.281 - ETA: 2s - loss: 0.281 - ETA: 2s - loss: 0.282 - ETA: 2s - loss: 0.282 - ETA: 1s - loss: 0.282 - ETA: 1s - loss: 0.283 - ETA: 1s - loss: 0.284 - ETA: 1s - loss: 0.283 - ETA: 1s - loss: 0.284 - ETA: 1s - loss: 0.286 - ETA: 1s - loss: 0.286 - ETA: 1s - loss: 0.286 - ETA: 1s - loss: 0.285 - ETA: 1s - loss: 0.285 - ETA: 1s - loss: 0.286 - ETA: 1s - loss: 0.286 - ETA: 1s - loss: 0.287 - ETA: 1s - loss: 0.287 - ETA: 1s - loss: 0.288 - ETA: 1s - loss: 0.287 - ETA: 0s - loss: 0.287 - ETA: 0s - loss: 0.288 - ETA: 0s - loss: 0.288 - ETA: 0s - loss: 0.288 - ETA: 0s - loss: 0.288 - ETA: 0s - loss: 0.287 - ETA: 0s - loss: 0.288 - ETA: 0s - loss: 0.287 - ETA: 0s - loss: 0.287 - ETA: 0s - loss: 0.288 - ETA: 0s - loss: 0.288 - ETA: 0s - loss: 0.288 - ETA: 0s - loss: 0.288 - ETA: 0s - loss: 0.288 - ETA: 0s - loss: 0.288 - ETA: 0s - loss: 0.288 - ETA: 0s - loss: 0.288 - ETA: 0s - loss: 0.288 - ETA: 0s - loss: 0.288 - 3s 444us/sample - loss: 0.2879 - val_loss: 0.2846\n",
      "Epoch 9/1000\n",
      "7108/7108 [==============================] - ETA: 6s - loss: 0.232 - ETA: 2s - loss: 0.285 - ETA: 2s - loss: 0.296 - ETA: 2s - loss: 0.290 - ETA: 2s - loss: 0.288 - ETA: 2s - loss: 0.289 - ETA: 2s - loss: 0.292 - ETA: 2s - loss: 0.288 - ETA: 2s - loss: 0.287 - ETA: 2s - loss: 0.284 - ETA: 2s - loss: 0.283 - ETA: 2s - loss: 0.283 - ETA: 2s - loss: 0.284 - ETA: 2s - loss: 0.285 - ETA: 2s - loss: 0.284 - ETA: 2s - loss: 0.286 - ETA: 2s - loss: 0.286 - ETA: 1s - loss: 0.286 - ETA: 1s - loss: 0.286 - ETA: 1s - loss: 0.287 - ETA: 1s - loss: 0.286 - ETA: 1s - loss: 0.286 - ETA: 1s - loss: 0.286 - ETA: 1s - loss: 0.286 - ETA: 1s - loss: 0.286 - ETA: 1s - loss: 0.286 - ETA: 1s - loss: 0.284 - ETA: 1s - loss: 0.285 - ETA: 1s - loss: 0.283 - ETA: 1s - loss: 0.283 - ETA: 1s - loss: 0.282 - ETA: 1s - loss: 0.282 - ETA: 1s - loss: 0.282 - ETA: 1s - loss: 0.282 - ETA: 1s - loss: 0.283 - ETA: 1s - loss: 0.283 - ETA: 1s - loss: 0.283 - ETA: 0s - loss: 0.282 - ETA: 0s - loss: 0.282 - ETA: 0s - loss: 0.281 - ETA: 0s - loss: 0.282 - ETA: 0s - loss: 0.281 - ETA: 0s - loss: 0.282 - ETA: 0s - loss: 0.282 - ETA: 0s - loss: 0.281 - ETA: 0s - loss: 0.281 - ETA: 0s - loss: 0.281 - ETA: 0s - loss: 0.282 - ETA: 0s - loss: 0.282 - ETA: 0s - loss: 0.282 - ETA: 0s - loss: 0.282 - ETA: 0s - loss: 0.282 - ETA: 0s - loss: 0.282 - ETA: 0s - loss: 0.283 - ETA: 0s - loss: 0.282 - 3s 469us/sample - loss: 0.2824 - val_loss: 0.2799\n",
      "Epoch 10/1000\n",
      "7108/7108 [==============================] - ETA: 7s - loss: 0.264 - ETA: 3s - loss: 0.261 - ETA: 3s - loss: 0.275 - ETA: 3s - loss: 0.280 - ETA: 3s - loss: 0.275 - ETA: 2s - loss: 0.274 - ETA: 2s - loss: 0.271 - ETA: 2s - loss: 0.270 - ETA: 2s - loss: 0.271 - ETA: 2s - loss: 0.274 - ETA: 2s - loss: 0.275 - ETA: 2s - loss: 0.278 - ETA: 2s - loss: 0.278 - ETA: 2s - loss: 0.279 - ETA: 2s - loss: 0.280 - ETA: 2s - loss: 0.281 - ETA: 2s - loss: 0.281 - ETA: 2s - loss: 0.281 - ETA: 2s - loss: 0.282 - ETA: 2s - loss: 0.281 - ETA: 2s - loss: 0.281 - ETA: 1s - loss: 0.281 - ETA: 1s - loss: 0.280 - ETA: 1s - loss: 0.281 - ETA: 1s - loss: 0.281 - ETA: 1s - loss: 0.280 - ETA: 1s - loss: 0.279 - ETA: 1s - loss: 0.279 - ETA: 1s - loss: 0.279 - ETA: 1s - loss: 0.280 - ETA: 1s - loss: 0.280 - ETA: 1s - loss: 0.280 - ETA: 1s - loss: 0.279 - ETA: 1s - loss: 0.279 - ETA: 1s - loss: 0.279 - ETA: 1s - loss: 0.279 - ETA: 1s - loss: 0.279 - ETA: 1s - loss: 0.279 - ETA: 1s - loss: 0.279 - ETA: 1s - loss: 0.279 - ETA: 0s - loss: 0.279 - ETA: 0s - loss: 0.279 - ETA: 0s - loss: 0.279 - ETA: 0s - loss: 0.278 - ETA: 0s - loss: 0.278 - ETA: 0s - loss: 0.278 - ETA: 0s - loss: 0.278 - ETA: 0s - loss: 0.278 - ETA: 0s - loss: 0.278 - ETA: 0s - loss: 0.278 - ETA: 0s - loss: 0.277 - ETA: 0s - loss: 0.278 - ETA: 0s - loss: 0.278 - ETA: 0s - loss: 0.278 - ETA: 0s - loss: 0.278 - ETA: 0s - loss: 0.278 - ETA: 0s - loss: 0.279 - ETA: 0s - loss: 0.278 - ETA: 0s - loss: 0.278 - ETA: 0s - loss: 0.278 - 4s 499us/sample - loss: 0.2781 - val_loss: 0.2776\n",
      "Epoch 11/1000\n"
     ]
    },
    {
     "name": "stdout",
     "output_type": "stream",
     "text": [
      "7108/7108 [==============================] - ETA: 5s - loss: 0.307 - ETA: 2s - loss: 0.268 - ETA: 2s - loss: 0.251 - ETA: 2s - loss: 0.254 - ETA: 2s - loss: 0.262 - ETA: 2s - loss: 0.268 - ETA: 2s - loss: 0.270 - ETA: 2s - loss: 0.273 - ETA: 2s - loss: 0.273 - ETA: 2s - loss: 0.274 - ETA: 2s - loss: 0.274 - ETA: 2s - loss: 0.272 - ETA: 2s - loss: 0.274 - ETA: 1s - loss: 0.274 - ETA: 1s - loss: 0.275 - ETA: 1s - loss: 0.275 - ETA: 1s - loss: 0.277 - ETA: 1s - loss: 0.276 - ETA: 1s - loss: 0.276 - ETA: 1s - loss: 0.276 - ETA: 1s - loss: 0.275 - ETA: 1s - loss: 0.275 - ETA: 1s - loss: 0.275 - ETA: 1s - loss: 0.275 - ETA: 1s - loss: 0.276 - ETA: 1s - loss: 0.275 - ETA: 1s - loss: 0.275 - ETA: 1s - loss: 0.274 - ETA: 1s - loss: 0.274 - ETA: 1s - loss: 0.273 - ETA: 1s - loss: 0.273 - ETA: 1s - loss: 0.273 - ETA: 1s - loss: 0.273 - ETA: 1s - loss: 0.274 - ETA: 0s - loss: 0.273 - ETA: 0s - loss: 0.274 - ETA: 0s - loss: 0.274 - ETA: 0s - loss: 0.274 - ETA: 0s - loss: 0.275 - ETA: 0s - loss: 0.275 - ETA: 0s - loss: 0.275 - ETA: 0s - loss: 0.275 - ETA: 0s - loss: 0.275 - ETA: 0s - loss: 0.275 - ETA: 0s - loss: 0.274 - ETA: 0s - loss: 0.274 - ETA: 0s - loss: 0.274 - ETA: 0s - loss: 0.273 - ETA: 0s - loss: 0.274 - ETA: 0s - loss: 0.274 - ETA: 0s - loss: 0.274 - ETA: 0s - loss: 0.274 - 3s 439us/sample - loss: 0.2748 - val_loss: 0.2789\n",
      "Epoch 12/1000\n",
      "7108/7108 [==============================] - ETA: 3s - loss: 0.229 - ETA: 3s - loss: 0.269 - ETA: 3s - loss: 0.264 - ETA: 3s - loss: 0.266 - ETA: 2s - loss: 0.275 - ETA: 2s - loss: 0.272 - ETA: 2s - loss: 0.270 - ETA: 2s - loss: 0.270 - ETA: 2s - loss: 0.268 - ETA: 2s - loss: 0.268 - ETA: 2s - loss: 0.268 - ETA: 2s - loss: 0.268 - ETA: 1s - loss: 0.269 - ETA: 1s - loss: 0.269 - ETA: 1s - loss: 0.270 - ETA: 1s - loss: 0.271 - ETA: 1s - loss: 0.270 - ETA: 1s - loss: 0.270 - ETA: 1s - loss: 0.269 - ETA: 1s - loss: 0.268 - ETA: 1s - loss: 0.267 - ETA: 1s - loss: 0.269 - ETA: 1s - loss: 0.269 - ETA: 1s - loss: 0.269 - ETA: 1s - loss: 0.269 - ETA: 1s - loss: 0.269 - ETA: 1s - loss: 0.270 - ETA: 1s - loss: 0.270 - ETA: 1s - loss: 0.271 - ETA: 1s - loss: 0.271 - ETA: 1s - loss: 0.271 - ETA: 0s - loss: 0.271 - ETA: 0s - loss: 0.272 - ETA: 0s - loss: 0.271 - ETA: 0s - loss: 0.272 - ETA: 0s - loss: 0.273 - ETA: 0s - loss: 0.272 - ETA: 0s - loss: 0.273 - ETA: 0s - loss: 0.272 - ETA: 0s - loss: 0.272 - ETA: 0s - loss: 0.272 - ETA: 0s - loss: 0.272 - ETA: 0s - loss: 0.272 - ETA: 0s - loss: 0.272 - ETA: 0s - loss: 0.272 - ETA: 0s - loss: 0.272 - ETA: 0s - loss: 0.271 - ETA: 0s - loss: 0.272 - ETA: 0s - loss: 0.272 - ETA: 0s - loss: 0.272 - 3s 425us/sample - loss: 0.2724 - val_loss: 0.2713\n",
      "Epoch 13/1000\n",
      "7108/7108 [==============================] - ETA: 4s - loss: 0.261 - ETA: 3s - loss: 0.255 - ETA: 2s - loss: 0.256 - ETA: 2s - loss: 0.258 - ETA: 2s - loss: 0.263 - ETA: 2s - loss: 0.266 - ETA: 2s - loss: 0.267 - ETA: 2s - loss: 0.266 - ETA: 2s - loss: 0.268 - ETA: 2s - loss: 0.268 - ETA: 2s - loss: 0.269 - ETA: 2s - loss: 0.267 - ETA: 2s - loss: 0.269 - ETA: 2s - loss: 0.266 - ETA: 1s - loss: 0.266 - ETA: 1s - loss: 0.267 - ETA: 1s - loss: 0.266 - ETA: 1s - loss: 0.265 - ETA: 1s - loss: 0.265 - ETA: 1s - loss: 0.267 - ETA: 1s - loss: 0.266 - ETA: 1s - loss: 0.265 - ETA: 1s - loss: 0.266 - ETA: 1s - loss: 0.267 - ETA: 1s - loss: 0.265 - ETA: 1s - loss: 0.265 - ETA: 1s - loss: 0.265 - ETA: 1s - loss: 0.264 - ETA: 1s - loss: 0.264 - ETA: 1s - loss: 0.264 - ETA: 1s - loss: 0.264 - ETA: 1s - loss: 0.265 - ETA: 1s - loss: 0.265 - ETA: 0s - loss: 0.266 - ETA: 0s - loss: 0.268 - ETA: 0s - loss: 0.268 - ETA: 0s - loss: 0.269 - ETA: 0s - loss: 0.269 - ETA: 0s - loss: 0.269 - ETA: 0s - loss: 0.269 - ETA: 0s - loss: 0.269 - ETA: 0s - loss: 0.270 - ETA: 0s - loss: 0.270 - ETA: 0s - loss: 0.270 - ETA: 0s - loss: 0.270 - ETA: 0s - loss: 0.270 - ETA: 0s - loss: 0.271 - ETA: 0s - loss: 0.270 - ETA: 0s - loss: 0.271 - ETA: 0s - loss: 0.271 - ETA: 0s - loss: 0.271 - ETA: 0s - loss: 0.271 - ETA: 0s - loss: 0.271 - 3s 449us/sample - loss: 0.2714 - val_loss: 0.2697\n",
      "Epoch 14/1000\n",
      "7108/7108 [==============================] - ETA: 4s - loss: 0.268 - ETA: 2s - loss: 0.251 - ETA: 2s - loss: 0.246 - ETA: 2s - loss: 0.259 - ETA: 2s - loss: 0.253 - ETA: 2s - loss: 0.261 - ETA: 2s - loss: 0.265 - ETA: 2s - loss: 0.262 - ETA: 2s - loss: 0.265 - ETA: 2s - loss: 0.265 - ETA: 2s - loss: 0.265 - ETA: 2s - loss: 0.265 - ETA: 2s - loss: 0.266 - ETA: 2s - loss: 0.267 - ETA: 2s - loss: 0.264 - ETA: 2s - loss: 0.266 - ETA: 2s - loss: 0.267 - ETA: 2s - loss: 0.268 - ETA: 1s - loss: 0.269 - ETA: 1s - loss: 0.269 - ETA: 1s - loss: 0.269 - ETA: 1s - loss: 0.269 - ETA: 1s - loss: 0.268 - ETA: 1s - loss: 0.269 - ETA: 1s - loss: 0.269 - ETA: 1s - loss: 0.269 - ETA: 1s - loss: 0.269 - ETA: 1s - loss: 0.269 - ETA: 1s - loss: 0.270 - ETA: 1s - loss: 0.271 - ETA: 1s - loss: 0.271 - ETA: 1s - loss: 0.271 - ETA: 1s - loss: 0.271 - ETA: 1s - loss: 0.271 - ETA: 1s - loss: 0.270 - ETA: 1s - loss: 0.270 - ETA: 0s - loss: 0.269 - ETA: 0s - loss: 0.269 - ETA: 0s - loss: 0.269 - ETA: 0s - loss: 0.269 - ETA: 0s - loss: 0.269 - ETA: 0s - loss: 0.269 - ETA: 0s - loss: 0.269 - ETA: 0s - loss: 0.269 - ETA: 0s - loss: 0.269 - ETA: 0s - loss: 0.269 - ETA: 0s - loss: 0.268 - ETA: 0s - loss: 0.268 - ETA: 0s - loss: 0.268 - ETA: 0s - loss: 0.268 - ETA: 0s - loss: 0.268 - ETA: 0s - loss: 0.268 - ETA: 0s - loss: 0.268 - ETA: 0s - loss: 0.268 - ETA: 0s - loss: 0.268 - 3s 463us/sample - loss: 0.2683 - val_loss: 0.2737\n",
      "Epoch 15/1000\n",
      "7108/7108 [==============================] - ETA: 5s - loss: 0.262 - ETA: 3s - loss: 0.277 - ETA: 2s - loss: 0.253 - ETA: 3s - loss: 0.257 - ETA: 2s - loss: 0.255 - ETA: 2s - loss: 0.264 - ETA: 2s - loss: 0.264 - ETA: 2s - loss: 0.266 - ETA: 2s - loss: 0.266 - ETA: 2s - loss: 0.267 - ETA: 2s - loss: 0.269 - ETA: 2s - loss: 0.265 - ETA: 2s - loss: 0.265 - ETA: 2s - loss: 0.265 - ETA: 2s - loss: 0.264 - ETA: 2s - loss: 0.263 - ETA: 2s - loss: 0.265 - ETA: 2s - loss: 0.265 - ETA: 1s - loss: 0.265 - ETA: 1s - loss: 0.266 - ETA: 1s - loss: 0.268 - ETA: 1s - loss: 0.269 - ETA: 1s - loss: 0.270 - ETA: 1s - loss: 0.272 - ETA: 1s - loss: 0.277 - ETA: 1s - loss: 0.281 - ETA: 1s - loss: 0.286 - ETA: 1s - loss: 0.288 - ETA: 1s - loss: 0.290 - ETA: 1s - loss: 0.292 - ETA: 1s - loss: 0.293 - ETA: 1s - loss: 0.295 - ETA: 1s - loss: 0.296 - ETA: 1s - loss: 0.298 - ETA: 1s - loss: 0.299 - ETA: 1s - loss: 0.299 - ETA: 0s - loss: 0.299 - ETA: 0s - loss: 0.300 - ETA: 0s - loss: 0.302 - ETA: 0s - loss: 0.303 - ETA: 0s - loss: 0.304 - ETA: 0s - loss: 0.304 - ETA: 0s - loss: 0.305 - ETA: 0s - loss: 0.306 - ETA: 0s - loss: 0.306 - ETA: 0s - loss: 0.306 - ETA: 0s - loss: 0.307 - ETA: 0s - loss: 0.307 - ETA: 0s - loss: 0.307 - ETA: 0s - loss: 0.307 - ETA: 0s - loss: 0.307 - ETA: 0s - loss: 0.307 - ETA: 0s - loss: 0.306 - ETA: 0s - loss: 0.307 - 3s 454us/sample - loss: 0.3072 - val_loss: 0.3123\n",
      "Epoch 16/1000\n"
     ]
    },
    {
     "name": "stdout",
     "output_type": "stream",
     "text": [
      "7108/7108 [==============================] - ETA: 5s - loss: 0.267 - ETA: 3s - loss: 0.298 - ETA: 2s - loss: 0.303 - ETA: 3s - loss: 0.303 - ETA: 3s - loss: 0.313 - ETA: 2s - loss: 0.309 - ETA: 2s - loss: 0.303 - ETA: 2s - loss: 0.306 - ETA: 2s - loss: 0.307 - ETA: 2s - loss: 0.307 - ETA: 2s - loss: 0.306 - ETA: 2s - loss: 0.307 - ETA: 2s - loss: 0.304 - ETA: 2s - loss: 0.302 - ETA: 2s - loss: 0.305 - ETA: 2s - loss: 0.304 - ETA: 2s - loss: 0.303 - ETA: 2s - loss: 0.302 - ETA: 2s - loss: 0.301 - ETA: 1s - loss: 0.299 - ETA: 1s - loss: 0.300 - ETA: 1s - loss: 0.300 - ETA: 1s - loss: 0.299 - ETA: 1s - loss: 0.300 - ETA: 1s - loss: 0.299 - ETA: 1s - loss: 0.298 - ETA: 1s - loss: 0.298 - ETA: 1s - loss: 0.299 - ETA: 1s - loss: 0.298 - ETA: 1s - loss: 0.299 - ETA: 1s - loss: 0.298 - ETA: 1s - loss: 0.299 - ETA: 1s - loss: 0.298 - ETA: 1s - loss: 0.298 - ETA: 1s - loss: 0.298 - ETA: 1s - loss: 0.299 - ETA: 0s - loss: 0.299 - ETA: 0s - loss: 0.300 - ETA: 0s - loss: 0.299 - ETA: 0s - loss: 0.298 - ETA: 0s - loss: 0.297 - ETA: 0s - loss: 0.297 - ETA: 0s - loss: 0.297 - ETA: 0s - loss: 0.297 - ETA: 0s - loss: 0.297 - ETA: 0s - loss: 0.297 - ETA: 0s - loss: 0.297 - ETA: 0s - loss: 0.297 - ETA: 0s - loss: 0.297 - ETA: 0s - loss: 0.298 - ETA: 0s - loss: 0.298 - ETA: 0s - loss: 0.298 - ETA: 0s - loss: 0.297 - ETA: 0s - loss: 0.297 - ETA: 0s - loss: 0.296 - ETA: 0s - loss: 0.296 - 3s 470us/sample - loss: 0.2964 - val_loss: 0.2927\n",
      "Epoch 17/1000\n",
      "7108/7108 [==============================] - ETA: 5s - loss: 0.301 - ETA: 3s - loss: 0.295 - ETA: 2s - loss: 0.288 - ETA: 2s - loss: 0.287 - ETA: 2s - loss: 0.286 - ETA: 2s - loss: 0.285 - ETA: 2s - loss: 0.288 - ETA: 2s - loss: 0.287 - ETA: 2s - loss: 0.285 - ETA: 2s - loss: 0.282 - ETA: 2s - loss: 0.283 - ETA: 2s - loss: 0.280 - ETA: 2s - loss: 0.280 - ETA: 2s - loss: 0.279 - ETA: 1s - loss: 0.279 - ETA: 1s - loss: 0.281 - ETA: 1s - loss: 0.280 - ETA: 1s - loss: 0.281 - ETA: 1s - loss: 0.284 - ETA: 1s - loss: 0.286 - ETA: 1s - loss: 0.287 - ETA: 1s - loss: 0.287 - ETA: 1s - loss: 0.289 - ETA: 1s - loss: 0.289 - ETA: 1s - loss: 0.290 - ETA: 1s - loss: 0.290 - ETA: 1s - loss: 0.290 - ETA: 1s - loss: 0.289 - ETA: 1s - loss: 0.289 - ETA: 1s - loss: 0.289 - ETA: 1s - loss: 0.288 - ETA: 1s - loss: 0.288 - ETA: 1s - loss: 0.289 - ETA: 1s - loss: 0.289 - ETA: 1s - loss: 0.289 - ETA: 1s - loss: 0.289 - ETA: 1s - loss: 0.289 - ETA: 1s - loss: 0.290 - ETA: 0s - loss: 0.290 - ETA: 0s - loss: 0.291 - ETA: 0s - loss: 0.290 - ETA: 0s - loss: 0.291 - ETA: 0s - loss: 0.291 - ETA: 0s - loss: 0.291 - ETA: 0s - loss: 0.290 - ETA: 0s - loss: 0.290 - ETA: 0s - loss: 0.291 - ETA: 0s - loss: 0.290 - ETA: 0s - loss: 0.290 - ETA: 0s - loss: 0.290 - ETA: 0s - loss: 0.291 - ETA: 0s - loss: 0.291 - ETA: 0s - loss: 0.290 - ETA: 0s - loss: 0.290 - ETA: 0s - loss: 0.290 - ETA: 0s - loss: 0.289 - 3s 473us/sample - loss: 0.2894 - val_loss: 0.2851\n",
      "Epoch 18/1000\n",
      "7108/7108 [==============================] - ETA: 3s - loss: 0.200 - ETA: 2s - loss: 0.251 - ETA: 2s - loss: 0.279 - ETA: 2s - loss: 0.276 - ETA: 2s - loss: 0.273 - ETA: 2s - loss: 0.268 - ETA: 2s - loss: 0.263 - ETA: 2s - loss: 0.263 - ETA: 2s - loss: 0.265 - ETA: 2s - loss: 0.267 - ETA: 2s - loss: 0.270 - ETA: 2s - loss: 0.271 - ETA: 1s - loss: 0.271 - ETA: 1s - loss: 0.270 - ETA: 1s - loss: 0.271 - ETA: 1s - loss: 0.271 - ETA: 1s - loss: 0.272 - ETA: 1s - loss: 0.272 - ETA: 1s - loss: 0.272 - ETA: 1s - loss: 0.273 - ETA: 1s - loss: 0.275 - ETA: 1s - loss: 0.275 - ETA: 1s - loss: 0.275 - ETA: 1s - loss: 0.275 - ETA: 1s - loss: 0.274 - ETA: 1s - loss: 0.275 - ETA: 1s - loss: 0.274 - ETA: 1s - loss: 0.274 - ETA: 1s - loss: 0.274 - ETA: 1s - loss: 0.274 - ETA: 1s - loss: 0.274 - ETA: 0s - loss: 0.275 - ETA: 0s - loss: 0.275 - ETA: 0s - loss: 0.276 - ETA: 0s - loss: 0.275 - ETA: 0s - loss: 0.275 - ETA: 0s - loss: 0.276 - ETA: 0s - loss: 0.275 - ETA: 0s - loss: 0.276 - ETA: 0s - loss: 0.276 - ETA: 0s - loss: 0.276 - ETA: 0s - loss: 0.276 - ETA: 0s - loss: 0.277 - ETA: 0s - loss: 0.277 - ETA: 0s - loss: 0.276 - ETA: 0s - loss: 0.276 - ETA: 0s - loss: 0.276 - ETA: 0s - loss: 0.276 - ETA: 0s - loss: 0.276 - ETA: 0s - loss: 0.276 - 3s 422us/sample - loss: 0.2766 - val_loss: 0.2773\n",
      "Epoch 19/1000\n",
      "7108/7108 [==============================] - ETA: 5s - loss: 0.245 - ETA: 2s - loss: 0.258 - ETA: 2s - loss: 0.259 - ETA: 2s - loss: 0.270 - ETA: 2s - loss: 0.271 - ETA: 2s - loss: 0.270 - ETA: 2s - loss: 0.268 - ETA: 2s - loss: 0.268 - ETA: 2s - loss: 0.267 - ETA: 2s - loss: 0.270 - ETA: 2s - loss: 0.268 - ETA: 2s - loss: 0.268 - ETA: 1s - loss: 0.269 - ETA: 1s - loss: 0.270 - ETA: 1s - loss: 0.269 - ETA: 1s - loss: 0.269 - ETA: 1s - loss: 0.270 - ETA: 1s - loss: 0.270 - ETA: 1s - loss: 0.269 - ETA: 1s - loss: 0.269 - ETA: 1s - loss: 0.269 - ETA: 1s - loss: 0.268 - ETA: 1s - loss: 0.267 - ETA: 1s - loss: 0.269 - ETA: 1s - loss: 0.269 - ETA: 1s - loss: 0.269 - ETA: 1s - loss: 0.268 - ETA: 1s - loss: 0.268 - ETA: 1s - loss: 0.269 - ETA: 0s - loss: 0.270 - ETA: 0s - loss: 0.269 - ETA: 0s - loss: 0.269 - ETA: 0s - loss: 0.269 - ETA: 0s - loss: 0.269 - ETA: 0s - loss: 0.269 - ETA: 0s - loss: 0.269 - ETA: 0s - loss: 0.268 - ETA: 0s - loss: 0.267 - ETA: 0s - loss: 0.268 - ETA: 0s - loss: 0.269 - ETA: 0s - loss: 0.269 - ETA: 0s - loss: 0.270 - ETA: 0s - loss: 0.271 - ETA: 0s - loss: 0.271 - ETA: 0s - loss: 0.271 - ETA: 0s - loss: 0.270 - 3s 396us/sample - loss: 0.2707 - val_loss: 0.2727\n",
      "Epoch 20/1000\n",
      "7108/7108 [==============================] - ETA: 5s - loss: 0.295 - ETA: 2s - loss: 0.264 - ETA: 2s - loss: 0.266 - ETA: 2s - loss: 0.258 - ETA: 2s - loss: 0.259 - ETA: 2s - loss: 0.265 - ETA: 2s - loss: 0.264 - ETA: 2s - loss: 0.263 - ETA: 2s - loss: 0.267 - ETA: 2s - loss: 0.265 - ETA: 2s - loss: 0.261 - ETA: 2s - loss: 0.263 - ETA: 2s - loss: 0.264 - ETA: 1s - loss: 0.266 - ETA: 1s - loss: 0.265 - ETA: 1s - loss: 0.267 - ETA: 1s - loss: 0.268 - ETA: 1s - loss: 0.268 - ETA: 1s - loss: 0.267 - ETA: 1s - loss: 0.266 - ETA: 1s - loss: 0.266 - ETA: 1s - loss: 0.267 - ETA: 1s - loss: 0.267 - ETA: 1s - loss: 0.267 - ETA: 1s - loss: 0.265 - ETA: 1s - loss: 0.266 - ETA: 1s - loss: 0.266 - ETA: 1s - loss: 0.266 - ETA: 1s - loss: 0.266 - ETA: 1s - loss: 0.267 - ETA: 0s - loss: 0.267 - ETA: 0s - loss: 0.268 - ETA: 0s - loss: 0.268 - ETA: 0s - loss: 0.267 - ETA: 0s - loss: 0.267 - ETA: 0s - loss: 0.266 - ETA: 0s - loss: 0.267 - ETA: 0s - loss: 0.267 - ETA: 0s - loss: 0.267 - ETA: 0s - loss: 0.267 - ETA: 0s - loss: 0.266 - ETA: 0s - loss: 0.267 - ETA: 0s - loss: 0.267 - ETA: 0s - loss: 0.266 - ETA: 0s - loss: 0.266 - ETA: 0s - loss: 0.266 - ETA: 0s - loss: 0.266 - ETA: 0s - loss: 0.267 - 3s 411us/sample - loss: 0.2667 - val_loss: 0.2699\n",
      "Epoch 21/1000\n",
      "7108/7108 [==============================] - ETA: 5s - loss: 0.246 - ETA: 3s - loss: 0.240 - ETA: 3s - loss: 0.261 - ETA: 2s - loss: 0.256 - ETA: 2s - loss: 0.258 - ETA: 2s - loss: 0.260 - ETA: 2s - loss: 0.259 - ETA: 2s - loss: 0.260 - ETA: 2s - loss: 0.259 - ETA: 2s - loss: 0.259 - ETA: 2s - loss: 0.262 - ETA: 1s - loss: 0.262 - ETA: 1s - loss: 0.264 - ETA: 1s - loss: 0.268 - ETA: 1s - loss: 0.268 - ETA: 1s - loss: 0.268 - ETA: 1s - loss: 0.268 - ETA: 1s - loss: 0.268 - ETA: 1s - loss: 0.267 - ETA: 1s - loss: 0.267 - ETA: 1s - loss: 0.267 - ETA: 1s - loss: 0.266 - ETA: 1s - loss: 0.266 - ETA: 1s - loss: 0.265 - ETA: 1s - loss: 0.265 - ETA: 1s - loss: 0.265 - ETA: 1s - loss: 0.265 - ETA: 1s - loss: 0.264 - ETA: 1s - loss: 0.265 - ETA: 0s - loss: 0.265 - ETA: 0s - loss: 0.265 - ETA: 0s - loss: 0.265 - ETA: 0s - loss: 0.266 - ETA: 0s - loss: 0.267 - ETA: 0s - loss: 0.266 - ETA: 0s - loss: 0.265 - ETA: 0s - loss: 0.265 - ETA: 0s - loss: 0.265 - ETA: 0s - loss: 0.264 - ETA: 0s - loss: 0.264 - ETA: 0s - loss: 0.264 - ETA: 0s - loss: 0.264 - ETA: 0s - loss: 0.264 - ETA: 0s - loss: 0.264 - ETA: 0s - loss: 0.264 - ETA: 0s - loss: 0.265 - ETA: 0s - loss: 0.264 - 3s 404us/sample - loss: 0.2646 - val_loss: 0.2671\n",
      "Epoch 22/1000\n"
     ]
    },
    {
     "name": "stdout",
     "output_type": "stream",
     "text": [
      "7108/7108 [==============================] - ETA: 4s - loss: 0.335 - ETA: 2s - loss: 0.271 - ETA: 2s - loss: 0.268 - ETA: 2s - loss: 0.271 - ETA: 2s - loss: 0.271 - ETA: 2s - loss: 0.272 - ETA: 2s - loss: 0.272 - ETA: 2s - loss: 0.270 - ETA: 2s - loss: 0.269 - ETA: 2s - loss: 0.265 - ETA: 1s - loss: 0.265 - ETA: 1s - loss: 0.265 - ETA: 1s - loss: 0.263 - ETA: 1s - loss: 0.264 - ETA: 1s - loss: 0.265 - ETA: 1s - loss: 0.265 - ETA: 1s - loss: 0.264 - ETA: 1s - loss: 0.265 - ETA: 1s - loss: 0.265 - ETA: 1s - loss: 0.264 - ETA: 1s - loss: 0.264 - ETA: 1s - loss: 0.263 - ETA: 1s - loss: 0.262 - ETA: 1s - loss: 0.261 - ETA: 1s - loss: 0.262 - ETA: 1s - loss: 0.262 - ETA: 1s - loss: 0.262 - ETA: 1s - loss: 0.262 - ETA: 1s - loss: 0.262 - ETA: 1s - loss: 0.262 - ETA: 1s - loss: 0.261 - ETA: 0s - loss: 0.261 - ETA: 0s - loss: 0.261 - ETA: 0s - loss: 0.261 - ETA: 0s - loss: 0.261 - ETA: 0s - loss: 0.260 - ETA: 0s - loss: 0.260 - ETA: 0s - loss: 0.260 - ETA: 0s - loss: 0.260 - ETA: 0s - loss: 0.260 - ETA: 0s - loss: 0.260 - ETA: 0s - loss: 0.260 - ETA: 0s - loss: 0.260 - ETA: 0s - loss: 0.260 - ETA: 0s - loss: 0.260 - ETA: 0s - loss: 0.261 - ETA: 0s - loss: 0.261 - ETA: 0s - loss: 0.261 - ETA: 0s - loss: 0.261 - ETA: 0s - loss: 0.261 - ETA: 0s - loss: 0.260 - ETA: 0s - loss: 0.261 - ETA: 0s - loss: 0.261 - ETA: 0s - loss: 0.261 - 4s 574us/sample - loss: 0.2610 - val_loss: 0.2641\n",
      "Epoch 23/1000\n",
      "7108/7108 [==============================] - ETA: 3s - loss: 0.260 - ETA: 2s - loss: 0.288 - ETA: 2s - loss: 0.276 - ETA: 2s - loss: 0.272 - ETA: 3s - loss: 0.270 - ETA: 3s - loss: 0.263 - ETA: 2s - loss: 0.255 - ETA: 2s - loss: 0.256 - ETA: 2s - loss: 0.256 - ETA: 2s - loss: 0.255 - ETA: 2s - loss: 0.258 - ETA: 2s - loss: 0.256 - ETA: 2s - loss: 0.254 - ETA: 2s - loss: 0.254 - ETA: 2s - loss: 0.253 - ETA: 2s - loss: 0.253 - ETA: 2s - loss: 0.253 - ETA: 2s - loss: 0.253 - ETA: 2s - loss: 0.253 - ETA: 2s - loss: 0.254 - ETA: 2s - loss: 0.252 - ETA: 1s - loss: 0.254 - ETA: 1s - loss: 0.255 - ETA: 1s - loss: 0.254 - ETA: 1s - loss: 0.255 - ETA: 1s - loss: 0.255 - ETA: 1s - loss: 0.255 - ETA: 1s - loss: 0.257 - ETA: 1s - loss: 0.257 - ETA: 1s - loss: 0.256 - ETA: 1s - loss: 0.257 - ETA: 1s - loss: 0.257 - ETA: 1s - loss: 0.257 - ETA: 1s - loss: 0.257 - ETA: 1s - loss: 0.258 - ETA: 1s - loss: 0.257 - ETA: 1s - loss: 0.257 - ETA: 1s - loss: 0.257 - ETA: 1s - loss: 0.257 - ETA: 1s - loss: 0.257 - ETA: 0s - loss: 0.258 - ETA: 0s - loss: 0.257 - ETA: 0s - loss: 0.257 - ETA: 0s - loss: 0.257 - ETA: 0s - loss: 0.258 - ETA: 0s - loss: 0.258 - ETA: 0s - loss: 0.258 - ETA: 0s - loss: 0.258 - ETA: 0s - loss: 0.258 - ETA: 0s - loss: 0.259 - ETA: 0s - loss: 0.259 - ETA: 0s - loss: 0.259 - ETA: 0s - loss: 0.258 - ETA: 0s - loss: 0.258 - ETA: 0s - loss: 0.258 - ETA: 0s - loss: 0.258 - ETA: 0s - loss: 0.258 - ETA: 0s - loss: 0.258 - 3s 486us/sample - loss: 0.2580 - val_loss: 0.2614\n",
      "Epoch 24/1000\n",
      "7108/7108 [==============================] - ETA: 4s - loss: 0.240 - ETA: 2s - loss: 0.250 - ETA: 2s - loss: 0.255 - ETA: 2s - loss: 0.263 - ETA: 2s - loss: 0.262 - ETA: 2s - loss: 0.260 - ETA: 2s - loss: 0.260 - ETA: 2s - loss: 0.265 - ETA: 2s - loss: 0.264 - ETA: 2s - loss: 0.261 - ETA: 2s - loss: 0.259 - ETA: 2s - loss: 0.261 - ETA: 2s - loss: 0.258 - ETA: 2s - loss: 0.259 - ETA: 2s - loss: 0.258 - ETA: 2s - loss: 0.257 - ETA: 2s - loss: 0.256 - ETA: 2s - loss: 0.256 - ETA: 1s - loss: 0.257 - ETA: 1s - loss: 0.256 - ETA: 1s - loss: 0.257 - ETA: 1s - loss: 0.257 - ETA: 1s - loss: 0.256 - ETA: 1s - loss: 0.257 - ETA: 1s - loss: 0.255 - ETA: 1s - loss: 0.254 - ETA: 1s - loss: 0.254 - ETA: 1s - loss: 0.254 - ETA: 1s - loss: 0.255 - ETA: 1s - loss: 0.255 - ETA: 1s - loss: 0.255 - ETA: 1s - loss: 0.256 - ETA: 1s - loss: 0.256 - ETA: 0s - loss: 0.256 - ETA: 0s - loss: 0.257 - ETA: 0s - loss: 0.257 - ETA: 0s - loss: 0.257 - ETA: 0s - loss: 0.257 - ETA: 0s - loss: 0.257 - ETA: 0s - loss: 0.256 - ETA: 0s - loss: 0.256 - ETA: 0s - loss: 0.256 - ETA: 0s - loss: 0.256 - ETA: 0s - loss: 0.256 - ETA: 0s - loss: 0.256 - ETA: 0s - loss: 0.256 - ETA: 0s - loss: 0.256 - ETA: 0s - loss: 0.256 - ETA: 0s - loss: 0.257 - ETA: 0s - loss: 0.257 - ETA: 0s - loss: 0.257 - ETA: 0s - loss: 0.257 - 3s 440us/sample - loss: 0.2567 - val_loss: 0.2580\n",
      "Epoch 25/1000\n",
      "7108/7108 [==============================] - ETA: 4s - loss: 0.369 - ETA: 2s - loss: 0.293 - ETA: 2s - loss: 0.279 - ETA: 2s - loss: 0.265 - ETA: 2s - loss: 0.267 - ETA: 2s - loss: 0.265 - ETA: 2s - loss: 0.265 - ETA: 2s - loss: 0.260 - ETA: 2s - loss: 0.258 - ETA: 2s - loss: 0.259 - ETA: 2s - loss: 0.257 - ETA: 2s - loss: 0.257 - ETA: 2s - loss: 0.256 - ETA: 2s - loss: 0.259 - ETA: 2s - loss: 0.258 - ETA: 2s - loss: 0.258 - ETA: 1s - loss: 0.257 - ETA: 1s - loss: 0.258 - ETA: 1s - loss: 0.258 - ETA: 1s - loss: 0.257 - ETA: 1s - loss: 0.256 - ETA: 1s - loss: 0.256 - ETA: 1s - loss: 0.256 - ETA: 1s - loss: 0.257 - ETA: 1s - loss: 0.257 - ETA: 1s - loss: 0.258 - ETA: 1s - loss: 0.258 - ETA: 1s - loss: 0.257 - ETA: 1s - loss: 0.258 - ETA: 1s - loss: 0.257 - ETA: 1s - loss: 0.256 - ETA: 1s - loss: 0.256 - ETA: 1s - loss: 0.255 - ETA: 1s - loss: 0.255 - ETA: 1s - loss: 0.255 - ETA: 0s - loss: 0.255 - ETA: 0s - loss: 0.255 - ETA: 0s - loss: 0.255 - ETA: 0s - loss: 0.256 - ETA: 0s - loss: 0.256 - ETA: 0s - loss: 0.256 - ETA: 0s - loss: 0.255 - ETA: 0s - loss: 0.255 - ETA: 0s - loss: 0.255 - ETA: 0s - loss: 0.254 - ETA: 0s - loss: 0.254 - ETA: 0s - loss: 0.254 - ETA: 0s - loss: 0.254 - ETA: 0s - loss: 0.253 - ETA: 0s - loss: 0.253 - ETA: 0s - loss: 0.255 - ETA: 0s - loss: 0.256 - ETA: 0s - loss: 0.257 - ETA: 0s - loss: 0.257 - 3s 468us/sample - loss: 0.2586 - val_loss: 0.3240\n",
      "Epoch 26/1000\n",
      "7108/7108 [==============================] - ETA: 7s - loss: 0.331 - ETA: 8s - loss: 0.351 - ETA: 6s - loss: 0.343 - ETA: 4s - loss: 0.317 - ETA: 3s - loss: 0.309 - ETA: 3s - loss: 0.300 - ETA: 3s - loss: 0.294 - ETA: 3s - loss: 0.293 - ETA: 3s - loss: 0.291 - ETA: 3s - loss: 0.291 - ETA: 2s - loss: 0.291 - ETA: 2s - loss: 0.288 - ETA: 2s - loss: 0.287 - ETA: 2s - loss: 0.286 - ETA: 2s - loss: 0.285 - ETA: 2s - loss: 0.283 - ETA: 2s - loss: 0.282 - ETA: 1s - loss: 0.281 - ETA: 1s - loss: 0.280 - ETA: 1s - loss: 0.280 - ETA: 1s - loss: 0.279 - ETA: 1s - loss: 0.278 - ETA: 1s - loss: 0.278 - ETA: 1s - loss: 0.277 - ETA: 1s - loss: 0.277 - ETA: 1s - loss: 0.276 - ETA: 1s - loss: 0.276 - ETA: 1s - loss: 0.275 - ETA: 1s - loss: 0.275 - ETA: 1s - loss: 0.274 - ETA: 1s - loss: 0.273 - ETA: 1s - loss: 0.274 - ETA: 0s - loss: 0.274 - ETA: 0s - loss: 0.274 - ETA: 0s - loss: 0.274 - ETA: 0s - loss: 0.274 - ETA: 0s - loss: 0.273 - ETA: 0s - loss: 0.273 - ETA: 0s - loss: 0.273 - ETA: 0s - loss: 0.272 - ETA: 0s - loss: 0.272 - ETA: 0s - loss: 0.271 - ETA: 0s - loss: 0.270 - ETA: 0s - loss: 0.270 - ETA: 0s - loss: 0.270 - ETA: 0s - loss: 0.269 - ETA: 0s - loss: 0.269 - ETA: 0s - loss: 0.270 - ETA: 0s - loss: 0.269 - 3s 422us/sample - loss: 0.2694 - val_loss: 0.2654\n",
      "Epoch 27/1000\n",
      "7108/7108 [==============================] - ETA: 4s - loss: 0.231 - ETA: 2s - loss: 0.281 - ETA: 2s - loss: 0.274 - ETA: 2s - loss: 0.262 - ETA: 2s - loss: 0.266 - ETA: 2s - loss: 0.264 - ETA: 2s - loss: 0.262 - ETA: 2s - loss: 0.263 - ETA: 2s - loss: 0.261 - ETA: 2s - loss: 0.260 - ETA: 2s - loss: 0.257 - ETA: 2s - loss: 0.258 - ETA: 1s - loss: 0.258 - ETA: 1s - loss: 0.257 - ETA: 1s - loss: 0.258 - ETA: 1s - loss: 0.260 - ETA: 1s - loss: 0.261 - ETA: 1s - loss: 0.261 - ETA: 1s - loss: 0.262 - ETA: 1s - loss: 0.262 - ETA: 1s - loss: 0.262 - ETA: 1s - loss: 0.264 - ETA: 1s - loss: 0.263 - ETA: 1s - loss: 0.263 - ETA: 1s - loss: 0.263 - ETA: 1s - loss: 0.264 - ETA: 1s - loss: 0.263 - ETA: 1s - loss: 0.263 - ETA: 1s - loss: 0.263 - ETA: 0s - loss: 0.262 - ETA: 0s - loss: 0.262 - ETA: 0s - loss: 0.261 - ETA: 0s - loss: 0.261 - ETA: 0s - loss: 0.261 - ETA: 0s - loss: 0.261 - ETA: 0s - loss: 0.260 - ETA: 0s - loss: 0.260 - ETA: 0s - loss: 0.259 - ETA: 0s - loss: 0.259 - ETA: 0s - loss: 0.258 - ETA: 0s - loss: 0.259 - ETA: 0s - loss: 0.258 - ETA: 0s - loss: 0.259 - ETA: 0s - loss: 0.259 - ETA: 0s - loss: 0.258 - ETA: 0s - loss: 0.258 - ETA: 0s - loss: 0.258 - ETA: 0s - loss: 0.258 - 3s 407us/sample - loss: 0.2588 - val_loss: 0.2607\n"
     ]
    },
    {
     "name": "stdout",
     "output_type": "stream",
     "text": [
      "Epoch 28/1000\n",
      "7108/7108 [==============================] - ETA: 4s - loss: 0.184 - ETA: 2s - loss: 0.252 - ETA: 2s - loss: 0.254 - ETA: 2s - loss: 0.250 - ETA: 2s - loss: 0.251 - ETA: 2s - loss: 0.248 - ETA: 2s - loss: 0.253 - ETA: 2s - loss: 0.246 - ETA: 2s - loss: 0.248 - ETA: 2s - loss: 0.251 - ETA: 2s - loss: 0.254 - ETA: 2s - loss: 0.254 - ETA: 1s - loss: 0.259 - ETA: 1s - loss: 0.257 - ETA: 1s - loss: 0.258 - ETA: 1s - loss: 0.259 - ETA: 1s - loss: 0.259 - ETA: 1s - loss: 0.259 - ETA: 1s - loss: 0.259 - ETA: 1s - loss: 0.259 - ETA: 1s - loss: 0.258 - ETA: 1s - loss: 0.257 - ETA: 1s - loss: 0.257 - ETA: 1s - loss: 0.257 - ETA: 1s - loss: 0.257 - ETA: 1s - loss: 0.255 - ETA: 1s - loss: 0.256 - ETA: 1s - loss: 0.256 - ETA: 1s - loss: 0.256 - ETA: 0s - loss: 0.256 - ETA: 0s - loss: 0.255 - ETA: 0s - loss: 0.255 - ETA: 0s - loss: 0.256 - ETA: 0s - loss: 0.256 - ETA: 0s - loss: 0.256 - ETA: 0s - loss: 0.256 - ETA: 0s - loss: 0.256 - ETA: 0s - loss: 0.256 - ETA: 0s - loss: 0.255 - ETA: 0s - loss: 0.255 - ETA: 0s - loss: 0.255 - ETA: 0s - loss: 0.255 - ETA: 0s - loss: 0.256 - ETA: 0s - loss: 0.255 - ETA: 0s - loss: 0.256 - ETA: 0s - loss: 0.255 - ETA: 0s - loss: 0.256 - ETA: 0s - loss: 0.256 - 3s 410us/sample - loss: 0.2562 - val_loss: 0.2598\n",
      "Epoch 29/1000\n",
      "1130/7108 [===>..........................] - ETA: 4s - loss: 0.155 - ETA: 2s - loss: 0.234 - ETA: 2s - loss: 0.238 - ETA: 2s - loss: 0.242 - ETA: 2s - loss: 0.241 - ETA: 2s - loss: 0.245 - ETA: 2s - loss: 0.244 - ETA: 2s - loss: 0.248 - ETA: 2s - loss: 0.2484"
     ]
    }
   ],
   "source": [
    "# Model parameters\n",
    "optimizer = tf.keras.optimizers.Adam(learning_rate=1e-3)\n",
    "# loss = tf.keras.losses.MeanSquaredError()\n",
    "#loss = tf.keras.losses.MeanSquaredError()\n",
    "loss = tf.keras.losses.BinaryCrossentropy()\n",
    "# loss = tf.keras.losses.SquaredHinge()\n",
    "# metric = #tf.keras.metrics.BinaryAccuracy()\n",
    "metric = tf.keras.metrics.MeanSquaredError()\n",
    "es_callback = tf.keras.callbacks.EarlyStopping(monitor='val_loss', patience=50, restore_best_weights=True)\n",
    "\n",
    "checkpoint_path = f\"./output/AutoEncoder_logs/checkpoint.ckpt\"\n",
    "checkpoint_dir = os.path.dirname(checkpoint_path)\n",
    "save_model_callback = tf.keras.callbacks.ModelCheckpoint(filepath=checkpoint_path,\n",
    "                                                         save_weights_only=True,\n",
    "                                                         verbose=0)\n",
    "latest_checkpoint = tf.train.latest_checkpoint(checkpoint_dir)\n",
    "\n",
    "model.compile(optimizer, loss=loss, metrics=[metric])\n",
    "\n",
    "if latest_checkpoint:\n",
    "    model.load_weights(latest_checkpoint)\n",
    "model.fit(train_data, train_data, epochs=epochs, batch_size=batch_size, validation_data=(test_data, test_data), \n",
    "          shuffle=True, callbacks=[es_callback, save_model_callback], verbose=1)\n"
   ]
  },
  {
   "cell_type": "code",
   "execution_count": null,
   "metadata": {},
   "outputs": [],
   "source": [
    "model.plot_history()"
   ]
  },
  {
   "cell_type": "markdown",
   "metadata": {},
   "source": [
    "# Try on 1 dataset"
   ]
  },
  {
   "cell_type": "code",
   "execution_count": null,
   "metadata": {},
   "outputs": [],
   "source": [
    "path = './Time_Series/data/sleep_dataset.csv'\n",
    "\n",
    "path = \"./output/hh101/Simulation/DYNAMIC_step_5mn/Activity_Manager/SINGLE-ACTIVITY{sleep}/count_histogram.csv\"\n",
    "\n",
    "custom_df = pd.read_csv(path, delimiter=';')\n",
    "\n",
    "custom_df.drop(['tw_id'], axis=1, inplace=True)\n",
    "\n",
    "custom_df\n",
    "\n",
    "custom_data = custom_df.values.reshape(custom_df.shape[0], 1, custom_df.shape[1])\n",
    "custom_data"
   ]
  },
  {
   "cell_type": "code",
   "execution_count": null,
   "metadata": {},
   "outputs": [],
   "source": [
    "tensor_dataset = tf.data.Dataset.from_tensor_slices(custom_data).batch(len(custom_data))\n",
    "encoded_points = []\n",
    "for d in tensor_dataset:\n",
    "    z = model.encode(d)\n",
    "    encoded_points += [list(x) for x in z.numpy()]\n",
    "\n",
    "encoded_points = np.asarray(encoded_points)\n",
    "\n",
    "plt.plot(encoded_points)"
   ]
  },
  {
   "cell_type": "code",
   "execution_count": null,
   "metadata": {},
   "outputs": [],
   "source": [
    "# TEST THE ENCODE-DECODE OPERATION\n",
    "nb_test = 100\n",
    "\n",
    "x = np.asarray(random.choices(custom_data, k=nb_test)).reshape((nb_test, height, width))\n",
    "\n",
    "z = model.predict(x).reshape((nb_test, height, width))\n",
    "print(z.shape)"
   ]
  },
  {
   "cell_type": "code",
   "execution_count": null,
   "metadata": {},
   "outputs": [],
   "source": [
    "chosen = 87\n",
    "plt.plot(x[chosen][0], label='original')\n",
    "plt.plot(z[chosen][0], label='decoded')\n",
    "plt.legend()"
   ]
  },
  {
   "cell_type": "code",
   "execution_count": null,
   "metadata": {},
   "outputs": [],
   "source": []
  },
  {
   "cell_type": "code",
   "execution_count": null,
   "metadata": {},
   "outputs": [],
   "source": []
  },
  {
   "cell_type": "code",
   "execution_count": null,
   "metadata": {},
   "outputs": [],
   "source": []
  }
 ],
 "metadata": {
  "kernelspec": {
   "display_name": "Python 3",
   "language": "python",
   "name": "python3"
  },
  "language_info": {
   "codemirror_mode": {
    "name": "ipython",
    "version": 3
   },
   "file_extension": ".py",
   "mimetype": "text/x-python",
   "name": "python",
   "nbconvert_exporter": "python",
   "pygments_lexer": "ipython3",
   "version": "3.7.4"
  }
 },
 "nbformat": 4,
 "nbformat_minor": 2
}
