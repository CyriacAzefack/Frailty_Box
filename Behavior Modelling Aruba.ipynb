{
 "cells": [
  {
   "cell_type": "code",
   "execution_count": 1,
   "metadata": {},
   "outputs": [],
   "source": [
    "import Behavior_Model as bm\n"
   ]
  },
  {
   "cell_type": "code",
   "execution_count": 2,
   "metadata": {},
   "outputs": [],
   "source": [
    "args = \"--dataset_name aruba --time_step 60 --simu_step 5 --sim 10 --training_ratio 0.8 --tep 30 --window_days 7 --plot\"\n",
    "args = args.split(\" \")\n"
   ]
  },
  {
   "cell_type": "code",
   "execution_count": 3,
   "metadata": {
    "scrolled": false
   },
   "outputs": [
    {
     "name": "stdout",
     "output_type": "stream",
     "text": [
      " #         PARAMETERS         #\n",
      "Dataset Name : ARUBA\n",
      "Tep (mn): 30\n",
      "Training ratio : 0.8\n",
      "Static Learning (no time evolution) : False\n",
      "Time Window Duration : 7 days\n",
      "Simulation time step (mn) : 5\n",
      "ADP time step (mn) : 60\n",
      "Number of replications : 10\n",
      "Display Mode : True\n",
      "Debug Mode: False\n",
      "##############################\n",
      "#     DYNAMIC LEARNING       #\n",
      "##############################\n",
      "\n",
      "\n",
      "##################################################\n",
      "## Creation of the Macro-Activity '('eating', 'meal_preparation', 'relax')' ##\n",
      "####################################################\n",
      "\n",
      "\n",
      "\n",
      "\n",
      "##################################################\n",
      "## Creation of the Macro-Activity '('eating', 'meal_preparation', 'wash_dishes')' ##\n",
      "####################################################\n",
      "\n",
      "\n",
      "\n",
      "\n",
      "##################################################\n",
      "## Creation of the Macro-Activity '('enter_home', 'leave_home', 'work')' ##\n",
      "####################################################\n",
      "\n",
      "\n",
      "\n",
      "\n",
      "##################################################\n",
      "## Creation of the Macro-Activity '('enter_home', 'leave_home')' ##\n",
      "####################################################\n",
      "\n",
      "\n",
      "\n",
      "\n",
      "##################################################\n",
      "## Creation of the Macro-Activity '('meal_preparation', 'relax')' ##\n",
      "####################################################\n",
      "\n",
      "\n",
      "\n",
      "\n",
      "##################################################\n",
      "## Creation of the Macro-Activity '('bed_to_toilet', 'sleeping')' ##\n",
      "####################################################\n",
      "\n",
      "\n",
      "\n",
      "\n",
      "##################################################\n",
      "## Creation of the Macro-Activity '('eating', 'meal_preparation')' ##\n",
      "####################################################\n",
      "\n",
      "\n",
      "\n",
      "\n",
      "##################################################\n",
      "## Creation of the Macro-Activity '('sleeping',)' ##\n",
      "####################################################\n",
      "\n",
      "\n",
      "\n",
      "\n",
      "##################################################\n",
      "## Creation of the Macro-Activity '('meal_preparation',)' ##\n",
      "####################################################\n",
      "\n",
      "\n",
      "\n",
      "\n",
      "##################################################\n",
      "## Creation of the Macro-Activity '('housekeeping',)' ##\n",
      "####################################################\n",
      "\n",
      "\n",
      "\n",
      "\n",
      "##################################################\n",
      "## Creation of the Macro-Activity '('relax',)' ##\n",
      "####################################################\n",
      "\n",
      "\n",
      "\n",
      "\n",
      "##################################################\n",
      "## Creation of the Macro-Activity '('work',)' ##\n",
      "####################################################\n",
      "\n",
      "\n",
      "\n",
      "\n",
      "##################################################\n",
      "## Creation of the Macro-Activity '('wash_dishes',)' ##\n",
      "####################################################\n",
      "\n",
      "\n",
      "\n",
      "\n",
      "##################################################\n",
      "## Creation of the Macro-Activity '('leave_home',)' ##\n",
      "####################################################\n",
      "\n",
      "\n",
      "\n",
      "\n",
      "##################################################\n",
      "## Creation of the Macro-Activity '('enter_home',)' ##\n",
      "####################################################\n",
      "\n",
      "\n",
      "\n",
      "\n",
      "##################################################\n",
      "## Creation of the Macro-Activity '('eating',)' ##\n",
      "####################################################\n",
      "\n",
      "\n",
      "\n",
      "\n",
      "##################################################\n",
      "## Creation of the Macro-Activity '('others',)' ##\n",
      "####################################################\n",
      "\n",
      "\n",
      "Activities updates on Time Window 1/167 Done !\n",
      "Activities updates on Time Window 2/167 Done !\n",
      "Activities updates on Time Window 3/167 Done !\n",
      "Activities updates on Time Window 4/167 Done !\n",
      "\n",
      "\n",
      "##################################################\n",
      "## Creation of the Macro-Activity '('bed_to_toilet',)' ##\n",
      "####################################################\n",
      "\n",
      "\n",
      "Activities updates on Time Window 5/167 Done !\n",
      "\n",
      "\n",
      "##################################################\n",
      "## Creation of the Macro-Activity '('eating', 'enter_home', 'leave_home', 'meal_preparation')' ##\n",
      "####################################################\n",
      "\n",
      "\n",
      "Activities updates on Time Window 6/167 Done !\n",
      "Activities updates on Time Window 7/167 Done !\n",
      "Activities updates on Time Window 8/167 Done !\n",
      "Activities updates on Time Window 9/167 Done !\n",
      "Activities updates on Time Window 10/167 Done !\n",
      "Activities updates on Time Window 11/167 Done !\n",
      "Activities updates on Time Window 12/167 Done !\n",
      "\n",
      "\n",
      "##################################################\n",
      "## Creation of the Macro-Activity '('eating', 'wash_dishes')' ##\n",
      "####################################################\n",
      "\n",
      "\n",
      "Activities updates on Time Window 13/167 Done !\n",
      "Activities updates on Time Window 14/167 Done !\n",
      "Activities updates on Time Window 15/167 Done !\n",
      "Activities updates on Time Window 16/167 Done !\n",
      "\n",
      "\n",
      "##################################################\n",
      "## Creation of the Macro-Activity '('enter_home', 'leave_home', 'relax')' ##\n",
      "####################################################\n",
      "\n",
      "\n",
      "Activities updates on Time Window 17/167 Done !\n",
      "Activities updates on Time Window 18/167 Done !\n",
      "Activities updates on Time Window 19/167 Done !\n",
      "Activities updates on Time Window 20/167 Done !\n",
      "Activities updates on Time Window 21/167 Done !\n",
      "Activities updates on Time Window 22/167 Done !\n",
      "Activities updates on Time Window 23/167 Done !\n",
      "Activities updates on Time Window 24/167 Done !\n",
      "Activities updates on Time Window 25/167 Done !\n",
      "Activities updates on Time Window 26/167 Done !\n",
      "Activities updates on Time Window 27/167 Done !\n",
      "Activities updates on Time Window 28/167 Done !\n",
      "Activities updates on Time Window 29/167 Done !\n",
      "Activities updates on Time Window 30/167 Done !\n",
      "Activities updates on Time Window 31/167 Done !\n",
      "Activities updates on Time Window 32/167 Done !\n",
      "Activities updates on Time Window 33/167 Done !\n",
      "Activities updates on Time Window 34/167 Done !\n",
      "Activities updates on Time Window 35/167 Done !\n",
      "Activities updates on Time Window 36/167 Done !\n",
      "Activities updates on Time Window 37/167 Done !\n",
      "Activities updates on Time Window 38/167 Done !\n",
      "Activities updates on Time Window 39/167 Done !\n",
      "Activities updates on Time Window 40/167 Done !\n",
      "Activities updates on Time Window 41/167 Done !\n",
      "\n",
      "\n",
      "##################################################\n",
      "## Creation of the Macro-Activity '('leave_home', 'relax')' ##\n",
      "####################################################\n",
      "\n",
      "\n",
      "Activities updates on Time Window 42/167 Done !\n",
      "Activities updates on Time Window 43/167 Done !\n",
      "Activities updates on Time Window 44/167 Done !\n",
      "\n",
      "\n",
      "##################################################\n",
      "## Creation of the Macro-Activity '('enter_home', 'relax')' ##\n",
      "####################################################\n",
      "\n",
      "\n",
      "Activities updates on Time Window 45/167 Done !\n",
      "['meal_preparation', 'wash_dishes', 'eating'] : OBSOLETE EPISODE\n",
      "None\n",
      "['leave_home', 'work', 'enter_home'] : OBSOLETE EPISODE\n",
      "None\n",
      "Activities updates on Time Window 46/167 Done !\n",
      "Activities updates on Time Window 47/167 Done !\n",
      "Activities updates on Time Window 48/167 Done !\n",
      "Activities updates on Time Window 49/167 Done !\n",
      "Activities updates on Time Window 50/167 Done !\n",
      "Activities updates on Time Window 51/167 Done !\n",
      "Activities updates on Time Window 52/167 Done !\n",
      "Activities updates on Time Window 53/167 Done !\n",
      "Activities updates on Time Window 54/167 Done !\n",
      "Activities updates on Time Window 55/167 Done !\n",
      "['meal_preparation', 'leave_home', 'eating', 'enter_home'] : OBSOLETE EPISODE\n",
      "None\n",
      "Activities updates on Time Window 56/167 Done !\n",
      "['wash_dishes', 'eating'] : OBSOLETE EPISODE\n",
      "None\n",
      "Activities updates on Time Window 57/167 Done !\n",
      "Activities updates on Time Window 58/167 Done !\n",
      "Activities updates on Time Window 59/167 Done !\n",
      "Activities updates on Time Window 60/167 Done !\n",
      "Activities updates on Time Window 61/167 Done !\n",
      "Activities updates on Time Window 62/167 Done !\n",
      "Activities updates on Time Window 63/167 Done !\n",
      "Activities updates on Time Window 64/167 Done !\n",
      "Activities updates on Time Window 65/167 Done !\n",
      "Activities updates on Time Window 66/167 Done !\n",
      "\n",
      "\n",
      "##################################################\n",
      "## Creation of the Macro-Activity '('relax', 'wash_dishes')' ##\n",
      "####################################################\n",
      "\n",
      "\n",
      "Activities updates on Time Window 67/167 Done !\n",
      "Activities updates on Time Window 68/167 Done !\n",
      "Activities updates on Time Window 69/167 Done !\n",
      "Activities updates on Time Window 70/167 Done !\n",
      "Activities updates on Time Window 71/167 Done !\n",
      "['others'] : OBSOLETE EPISODE\n",
      "None\n"
     ]
    },
    {
     "name": "stdout",
     "output_type": "stream",
     "text": [
      "Activities updates on Time Window 72/167 Done !\n",
      "\n",
      "\n",
      "##################################################\n",
      "## Creation of the Macro-Activity '('enter_home', 'meal_preparation')' ##\n",
      "####################################################\n",
      "\n",
      "\n",
      "Activities updates on Time Window 73/167 Done !\n",
      "Activities updates on Time Window 74/167 Done !\n",
      "Activities updates on Time Window 75/167 Done !\n",
      "Activities updates on Time Window 76/167 Done !\n",
      "Activities updates on Time Window 77/167 Done !\n",
      "Activities updates on Time Window 78/167 Done !\n",
      "Activities updates on Time Window 79/167 Done !\n",
      "\n",
      "\n",
      "##################################################\n",
      "## Creation of the Macro-Activity '('leave_home', 'meal_preparation')' ##\n",
      "####################################################\n",
      "\n",
      "\n",
      "Activities updates on Time Window 80/167 Done !\n",
      "Activities updates on Time Window 81/167 Done !\n",
      "Activities updates on Time Window 82/167 Done !\n",
      "Activities updates on Time Window 83/167 Done !\n",
      "Activities updates on Time Window 84/167 Done !\n",
      "['relax', 'leave_home', 'enter_home'] : OBSOLETE EPISODE\n",
      "None\n",
      "Activities updates on Time Window 85/167 Done !\n",
      "Activities updates on Time Window 86/167 Done !\n",
      "Activities updates on Time Window 87/167 Done !\n",
      "['relax', 'leave_home'] : OBSOLETE EPISODE\n",
      "None\n",
      "Activities updates on Time Window 88/167 Done !\n",
      "Activities updates on Time Window 89/167 Done !\n",
      "Activities updates on Time Window 90/167 Done !\n",
      "Activities updates on Time Window 91/167 Done !\n",
      "Activities updates on Time Window 92/167 Done !\n",
      "['bed_to_toilet', 'sleeping'] : OBSOLETE EPISODE\n",
      "None\n",
      "Activities updates on Time Window 93/167 Done !\n",
      "Activities updates on Time Window 94/167 Done !\n",
      "Activities updates on Time Window 95/167 Done !\n",
      "Activities updates on Time Window 96/167 Done !\n",
      "Activities updates on Time Window 97/167 Done !\n",
      "Activities updates on Time Window 98/167 Done !\n",
      "Activities updates on Time Window 99/167 Done !\n",
      "Activities updates on Time Window 100/167 Done !\n",
      "\n",
      "\n",
      "##################################################\n",
      "## Creation of the Macro-Activity '('eating', 'meal_preparation', 'wash_dishes')' ##\n",
      "####################################################\n",
      "\n",
      "\n",
      "Activities updates on Time Window 101/167 Done !\n",
      "Activities updates on Time Window 102/167 Done !\n",
      "Activities updates on Time Window 103/167 Done !\n",
      "['leave_home', 'enter_home'] : OBSOLETE EPISODE\n",
      "None\n",
      "Activities updates on Time Window 104/167 Done !\n",
      "Activities updates on Time Window 105/167 Done !\n",
      "Activities updates on Time Window 106/167 Done !\n",
      "Activities updates on Time Window 107/167 Done !\n",
      "Activities updates on Time Window 108/167 Done !\n",
      "Activities updates on Time Window 109/167 Done !\n",
      "Activities updates on Time Window 110/167 Done !\n",
      "Activities updates on Time Window 111/167 Done !\n",
      "Activities updates on Time Window 112/167 Done !\n",
      "Activities updates on Time Window 113/167 Done !\n",
      "Activities updates on Time Window 114/167 Done !\n",
      "Activities updates on Time Window 115/167 Done !\n",
      "['relax', 'wash_dishes'] : OBSOLETE EPISODE\n",
      "None\n",
      "Activities updates on Time Window 116/167 Done !\n",
      "Activities updates on Time Window 117/167 Done !\n",
      "Activities updates on Time Window 118/167 Done !\n",
      "\n",
      "\n",
      "##################################################\n",
      "## Creation of the Macro-Activity '('enter_home', 'leave_home')' ##\n",
      "####################################################\n",
      "\n",
      "\n",
      "Activities updates on Time Window 119/167 Done !\n",
      "\n",
      "\n",
      "##################################################\n",
      "## Creation of the Macro-Activity '('enter_home', 'meal_preparation', 'relax')' ##\n",
      "####################################################\n",
      "\n",
      "\n",
      "Activities updates on Time Window 120/167 Done !\n",
      "Activities updates on Time Window 121/167 Done !\n",
      "Activities updates on Time Window 122/167 Done !\n",
      "Activities updates on Time Window 123/167 Done !\n",
      "Activities updates on Time Window 124/167 Done !\n",
      "Activities updates on Time Window 125/167 Done !\n",
      "Activities updates on Time Window 126/167 Done !\n",
      "Activities updates on Time Window 127/167 Done !\n",
      "Activities updates on Time Window 128/167 Done !\n",
      "['relax', 'enter_home'] : OBSOLETE EPISODE\n",
      "None\n",
      "Activities updates on Time Window 129/167 Done !\n",
      "['leave_home', 'meal_preparation'] : OBSOLETE EPISODE\n",
      "None\n",
      "Activities updates on Time Window 130/167 Done !\n",
      "Activities updates on Time Window 131/167 Done !\n",
      "Activities updates on Time Window 132/167 Done !\n",
      "Activities updates on Time Window 133/167 Done !\n",
      "Activities updates on Time Window 134/167 Done !\n",
      "Activities updates on Time Window 135/167 Done !\n",
      "Activities updates on Time Window 136/167 Done !\n",
      "Activities updates on Time Window 137/167 Done !\n",
      "Activities updates on Time Window 138/167 Done !\n",
      "Activities updates on Time Window 139/167 Done !\n",
      "Activities updates on Time Window 140/167 Done !\n",
      "Activities updates on Time Window 141/167 Done !\n",
      "Activities updates on Time Window 142/167 Done !\n",
      "\n",
      "\n",
      "##################################################\n",
      "## Creation of the Macro-Activity '('enter_home', 'relax')' ##\n",
      "####################################################\n",
      "\n",
      "\n",
      "Activities updates on Time Window 143/167 Done !\n",
      "Activities updates on Time Window 144/167 Done !\n",
      "['meal_preparation', 'enter_home'] : OBSOLETE EPISODE\n",
      "None\n",
      "Activities updates on Time Window 145/167 Done !\n",
      "Activities updates on Time Window 146/167 Done !\n",
      "Activities updates on Time Window 147/167 Done !\n",
      "['meal_preparation', 'wash_dishes', 'eating'] : OBSOLETE EPISODE\n",
      "None\n",
      "Activities updates on Time Window 148/167 Done !\n",
      "Activities updates on Time Window 149/167 Done !\n",
      "Activities updates on Time Window 150/167 Done !\n",
      "['housekeeping'] : OBSOLETE EPISODE\n",
      "None\n",
      "Activities updates on Time Window 151/167 Done !\n",
      "Activities updates on Time Window 152/167 Done !\n",
      "Activities updates on Time Window 153/167 Done !\n",
      "Activities updates on Time Window 154/167 Done !\n",
      "Activities updates on Time Window 155/167 Done !\n",
      "Activities updates on Time Window 156/167 Done !\n",
      "Activities updates on Time Window 157/167 Done !\n",
      "Activities updates on Time Window 158/167 Done !\n",
      "\n",
      "\n",
      "##################################################\n",
      "## Creation of the Macro-Activity '('enter_home', 'meal_preparation')' ##\n",
      "####################################################\n",
      "\n",
      "\n",
      "Activities updates on Time Window 159/167 Done !\n",
      "Activities updates on Time Window 160/167 Done !\n",
      "Activities updates on Time Window 161/167 Done !\n",
      "\n",
      "\n",
      "##################################################\n",
      "## Creation of the Macro-Activity '('others',)' ##\n",
      "####################################################\n",
      "\n",
      "\n",
      "Activities updates on Time Window 162/167 Done !\n",
      "Activities updates on Time Window 163/167 Done !\n",
      "Activities updates on Time Window 164/167 Done !\n",
      "\n",
      "\n",
      "##################################################\n",
      "## Creation of the Macro-Activity '('bed_to_toilet', 'sleeping')' ##\n",
      "####################################################\n",
      "\n",
      "\n",
      "Activities updates on Time Window 165/167 Done !\n",
      "Activities updates on Time Window 166/167 Done !\n",
      "Activities updates on Time Window 167/167 Done !\n",
      "Final Macro-Activities List ready\n",
      "###############################\n",
      "Time Windows Screening Time : 0:02:53.900000\n",
      "Activity Manager Built & Ready!!\n",
      "## Building forecasting models ... ##\n",
      "['meal_preparation', 'relax', 'eating'] : MACRO-ACTIVITY{eating -- meal_preparation -- relax}\n",
      "[eating] Duration forecasting...\n",
      "Mean Duration Forecasting...\n",
      "Mean Duration Error (NMSE) : 630.68\n",
      "STD Duration Forecasting...\n",
      "STD Duration Error (NMSE) : 606.61\n",
      "[meal_preparation] Duration forecasting...\n",
      "Mean Duration Forecasting...\n",
      "Mean Duration Error (NMSE) : 684.59\n",
      "STD Duration Forecasting...\n",
      "STD Duration Error (NMSE) : 234.58\n",
      "[relax] Duration forecasting...\n",
      "Mean Duration Forecasting...\n",
      "Mean Duration Error (NMSE) : 3844.89\n",
      "STD Duration Forecasting...\n",
      "STD Duration Error (NMSE) : 4477.83\n",
      "1/18 Macro-Activities Forecasting models done...['relax', 'meal_preparation'] : MACRO-ACTIVITY{meal_preparation -- relax}\n",
      "[meal_preparation] Duration forecasting...\n",
      "Mean Duration Forecasting...\n"
     ]
    },
    {
     "name": "stderr",
     "output_type": "stream",
     "text": [
      "C:\\Users\\cyriac.azefack\\AppData\\Local\\Continuum\\anaconda3\\lib\\site-packages\\statsmodels\\tsa\\statespace\\sarimax.py:981: UserWarning: Non-stationary starting seasonal autoregressive Using zeros as starting parameters.\n",
      "  warn('Non-stationary starting seasonal autoregressive'\n"
     ]
    },
    {
     "name": "stdout",
     "output_type": "stream",
     "text": [
      "Mean Duration Error (NMSE) : 150.28\n",
      "STD Duration Forecasting...\n",
      "STD Duration Error (NMSE) : 2428.51\n",
      "[relax] Duration forecasting...\n",
      "Mean Duration Forecasting...\n",
      "Mean Duration Error (NMSE) : 269.85\n",
      "STD Duration Forecasting...\n",
      "STD Duration Error (NMSE) : 344.40\n",
      "2/18 Macro-Activities Forecasting models done...['meal_preparation', 'eating'] : MACRO-ACTIVITY{eating -- meal_preparation}\n",
      "[eating] Duration forecasting...\n",
      "Mean Duration Forecasting...\n",
      "Mean Duration Error (NMSE) : 40.09\n",
      "STD Duration Forecasting...\n",
      "STD Duration Error (NMSE) : 250.78\n",
      "[meal_preparation] Duration forecasting...\n",
      "Mean Duration Forecasting...\n",
      "Mean Duration Error (NMSE) : 10.96\n",
      "STD Duration Forecasting...\n",
      "STD Duration Error (NMSE) : 22.79\n",
      "3/18 Macro-Activities Forecasting models done...['sleeping'] : SINGLE-ACTIVITY{sleeping}\n",
      "[sleeping] Duration forecasting...\n",
      "Mean Duration Forecasting...\n",
      "Mean Duration Error (NMSE) : 273.40\n",
      "STD Duration Forecasting...\n"
     ]
    },
    {
     "name": "stderr",
     "output_type": "stream",
     "text": [
      "C:\\Users\\cyriac.azefack\\AppData\\Local\\Continuum\\anaconda3\\lib\\site-packages\\statsmodels\\tsa\\statespace\\sarimax.py:981: UserWarning: Non-stationary starting seasonal autoregressive Using zeros as starting parameters.\n",
      "  warn('Non-stationary starting seasonal autoregressive'\n"
     ]
    },
    {
     "name": "stdout",
     "output_type": "stream",
     "text": [
      "STD Duration Error (NMSE) : 548.07\n",
      "4/18 Macro-Activities Forecasting models done...['meal_preparation'] : SINGLE-ACTIVITY{meal_preparation}\n",
      "[meal_preparation] Duration forecasting...\n",
      "Mean Duration Forecasting...\n",
      "Mean Duration Error (NMSE) : 40.75\n",
      "STD Duration Forecasting...\n",
      "STD Duration Error (NMSE) : 41.24\n",
      "5/18 Macro-Activities Forecasting models done...['relax'] : SINGLE-ACTIVITY{relax}\n",
      "[relax] Duration forecasting...\n",
      "Mean Duration Forecasting...\n"
     ]
    },
    {
     "name": "stderr",
     "output_type": "stream",
     "text": [
      "C:\\Users\\cyriac.azefack\\AppData\\Local\\Continuum\\anaconda3\\lib\\site-packages\\statsmodels\\tsa\\statespace\\sarimax.py:949: UserWarning: Non-stationary starting autoregressive parameters found. Using zeros as starting parameters.\n",
      "  warn('Non-stationary starting autoregressive parameters'\n"
     ]
    },
    {
     "name": "stdout",
     "output_type": "stream",
     "text": [
      "Mean Duration Error (NMSE) : 150.08\n",
      "STD Duration Forecasting...\n",
      "STD Duration Error (NMSE) : 134.27\n",
      "6/18 Macro-Activities Forecasting models done...['work'] : SINGLE-ACTIVITY{work}\n",
      "[work] Duration forecasting...\n",
      "Mean Duration Forecasting...\n",
      "Mean Duration Error (NMSE) : 389.99\n",
      "STD Duration Forecasting...\n",
      "STD Duration Error (NMSE) : 408.88\n",
      "7/18 Macro-Activities Forecasting models done...['wash_dishes'] : SINGLE-ACTIVITY{wash_dishes}\n",
      "[wash_dishes] Duration forecasting...\n",
      "Mean Duration Forecasting...\n",
      "Mean Duration Error (NMSE) : 649.16\n",
      "STD Duration Forecasting...\n",
      "STD Duration Error (NMSE) : inf\n",
      "8/18 Macro-Activities Forecasting models done..."
     ]
    },
    {
     "name": "stderr",
     "output_type": "stream",
     "text": [
      "C:\\Users\\cyriac.azefack\\Workspace\\Frailty_Box\\Simulation\\MacroActivity.py:704: RuntimeWarning: divide by zero encountered in double_scalars\n",
      "  nmse_error = mean_squared_error(test, validation_forecast)/np.mean(test)\n"
     ]
    },
    {
     "name": "stdout",
     "output_type": "stream",
     "text": [
      "['leave_home'] : SINGLE-ACTIVITY{leave_home}\n",
      "[leave_home] Duration forecasting...\n",
      "Mean Duration Forecasting...\n",
      "Mean Duration Error (NMSE) : 0.43\n",
      "STD Duration Forecasting...\n",
      "STD Duration Error (NMSE) : 1.59\n",
      "9/18 Macro-Activities Forecasting models done...['enter_home'] : SINGLE-ACTIVITY{enter_home}\n",
      "[enter_home] Duration forecasting...\n",
      "Mean Duration Forecasting...\n",
      "Mean Duration Error (NMSE) : 0.21\n",
      "STD Duration Forecasting...\n",
      "STD Duration Error (NMSE) : 1.15\n",
      "10/18 Macro-Activities Forecasting models done...['eating'] : SINGLE-ACTIVITY{eating}\n",
      "[eating] Duration forecasting...\n",
      "Mean Duration Forecasting...\n",
      "Mean Duration Error (NMSE) : 159.35\n",
      "STD Duration Forecasting...\n",
      "STD Duration Error (NMSE) : 227.31\n",
      "11/18 Macro-Activities Forecasting models done...['bed_to_toilet'] : SINGLE-ACTIVITY{bed_to_toilet}\n",
      "[bed_to_toilet] Duration forecasting...\n",
      "Mean Duration Forecasting...\n",
      "Mean Duration Error (NMSE) : 9.04\n",
      "STD Duration Forecasting...\n",
      "STD Duration Error (NMSE) : 143.66\n",
      "12/18 Macro-Activities Forecasting models done...['leave_home', 'enter_home'] : MACRO-ACTIVITY{enter_home -- leave_home}\n",
      "[enter_home] Duration forecasting...\n",
      "Mean Duration Forecasting...\n"
     ]
    },
    {
     "name": "stderr",
     "output_type": "stream",
     "text": [
      "C:\\Users\\cyriac.azefack\\Workspace\\Frailty_Box\\Simulation\\MacroActivity.py:704: RuntimeWarning: divide by zero encountered in double_scalars\n",
      "  nmse_error = mean_squared_error(test, validation_forecast)/np.mean(test)\n"
     ]
    },
    {
     "name": "stdout",
     "output_type": "stream",
     "text": [
      "Mean Duration Error (NMSE) : inf\n",
      "STD Duration Forecasting...\n"
     ]
    },
    {
     "name": "stderr",
     "output_type": "stream",
     "text": [
      "C:\\Users\\cyriac.azefack\\AppData\\Local\\Continuum\\anaconda3\\lib\\site-packages\\statsmodels\\tsa\\statespace\\sarimax.py:949: UserWarning: Non-stationary starting autoregressive parameters found. Using zeros as starting parameters.\n",
      "  warn('Non-stationary starting autoregressive parameters'\n",
      "C:\\Users\\cyriac.azefack\\AppData\\Local\\Continuum\\anaconda3\\lib\\site-packages\\statsmodels\\tsa\\statespace\\sarimax.py:961: UserWarning: Non-invertible starting MA parameters found. Using zeros as starting parameters.\n",
      "  warn('Non-invertible starting MA parameters found.'\n",
      "C:\\Users\\cyriac.azefack\\AppData\\Local\\Continuum\\anaconda3\\lib\\site-packages\\statsmodels\\base\\model.py:512: ConvergenceWarning: Maximum Likelihood optimization failed to converge. Check mle_retvals\n",
      "  \"Check mle_retvals\", ConvergenceWarning)\n",
      "C:\\Users\\cyriac.azefack\\Workspace\\Frailty_Box\\Simulation\\MacroActivity.py:704: RuntimeWarning: divide by zero encountered in double_scalars\n",
      "  nmse_error = mean_squared_error(test, validation_forecast)/np.mean(test)\n"
     ]
    },
    {
     "name": "stdout",
     "output_type": "stream",
     "text": [
      "STD Duration Error (NMSE) : inf\n",
      "[leave_home] Duration forecasting...\n",
      "Mean Duration Forecasting...\n"
     ]
    },
    {
     "name": "stderr",
     "output_type": "stream",
     "text": [
      "C:\\Users\\cyriac.azefack\\AppData\\Local\\Continuum\\anaconda3\\lib\\site-packages\\statsmodels\\tsa\\statespace\\sarimax.py:961: UserWarning: Non-invertible starting MA parameters found. Using zeros as starting parameters.\n",
      "  warn('Non-invertible starting MA parameters found.'\n",
      "C:\\Users\\cyriac.azefack\\Workspace\\Frailty_Box\\Simulation\\MacroActivity.py:704: RuntimeWarning: divide by zero encountered in double_scalars\n",
      "  nmse_error = mean_squared_error(test, validation_forecast)/np.mean(test)\n"
     ]
    },
    {
     "name": "stdout",
     "output_type": "stream",
     "text": [
      "Mean Duration Error (NMSE) : inf\n",
      "STD Duration Forecasting...\n"
     ]
    },
    {
     "name": "stderr",
     "output_type": "stream",
     "text": [
      "C:\\Users\\cyriac.azefack\\AppData\\Local\\Continuum\\anaconda3\\lib\\site-packages\\statsmodels\\tsa\\statespace\\sarimax.py:949: UserWarning: Non-stationary starting autoregressive parameters found. Using zeros as starting parameters.\n",
      "  warn('Non-stationary starting autoregressive parameters'\n",
      "C:\\Users\\cyriac.azefack\\AppData\\Local\\Continuum\\anaconda3\\lib\\site-packages\\statsmodels\\tsa\\statespace\\sarimax.py:961: UserWarning: Non-invertible starting MA parameters found. Using zeros as starting parameters.\n",
      "  warn('Non-invertible starting MA parameters found.'\n",
      "C:\\Users\\cyriac.azefack\\AppData\\Local\\Continuum\\anaconda3\\lib\\site-packages\\statsmodels\\base\\model.py:512: ConvergenceWarning: Maximum Likelihood optimization failed to converge. Check mle_retvals\n",
      "  \"Check mle_retvals\", ConvergenceWarning)\n",
      "C:\\Users\\cyriac.azefack\\Workspace\\Frailty_Box\\Simulation\\MacroActivity.py:704: RuntimeWarning: divide by zero encountered in double_scalars\n",
      "  nmse_error = mean_squared_error(test, validation_forecast)/np.mean(test)\n"
     ]
    },
    {
     "name": "stdout",
     "output_type": "stream",
     "text": [
      "STD Duration Error (NMSE) : inf\n",
      "13/18 Macro-Activities Forecasting models done...['relax', 'meal_preparation', 'enter_home'] : MACRO-ACTIVITY{enter_home -- meal_preparation -- relax}\n",
      "[enter_home] Duration forecasting...\n",
      "Mean Duration Forecasting...\n",
      "Mean Duration Error (NMSE) : 2.38\n",
      "STD Duration Forecasting...\n",
      "STD Duration Error (NMSE) : 2.15\n",
      "[meal_preparation] Duration forecasting...\n",
      "Mean Duration Forecasting...\n",
      "Mean Duration Error (NMSE) : 167.13\n",
      "STD Duration Forecasting...\n",
      "STD Duration Error (NMSE) : 73.94\n",
      "[relax] Duration forecasting...\n",
      "Mean Duration Forecasting...\n",
      "Mean Duration Error (NMSE) : 390.99\n",
      "STD Duration Forecasting...\n",
      "STD Duration Error (NMSE) : 248.23\n",
      "14/18 Macro-Activities Forecasting models done...['relax', 'enter_home'] : MACRO-ACTIVITY{enter_home -- relax}\n"
     ]
    },
    {
     "name": "stderr",
     "output_type": "stream",
     "text": [
      "C:\\Users\\cyriac.azefack\\AppData\\Local\\Continuum\\anaconda3\\lib\\site-packages\\statsmodels\\base\\model.py:512: ConvergenceWarning: Maximum Likelihood optimization failed to converge. Check mle_retvals\n",
      "  \"Check mle_retvals\", ConvergenceWarning)\n"
     ]
    },
    {
     "name": "stdout",
     "output_type": "stream",
     "text": [
      "[enter_home] Duration forecasting...\n",
      "Mean Duration Forecasting...\n",
      "Mean Duration Error (NMSE) : 5.52\n",
      "STD Duration Forecasting...\n"
     ]
    },
    {
     "name": "stderr",
     "output_type": "stream",
     "text": [
      "C:\\Users\\cyriac.azefack\\AppData\\Local\\Continuum\\anaconda3\\lib\\site-packages\\pmdarima\\arima\\auto.py:327: UserWarning: Input time-series is completely constant; returning a (0, 0, 0) ARMA.\n",
      "  warnings.warn('Input time-series is completely constant; '\n",
      "C:\\Users\\cyriac.azefack\\AppData\\Local\\Continuum\\anaconda3\\lib\\site-packages\\statsmodels\\base\\model.py:512: ConvergenceWarning: Maximum Likelihood optimization failed to converge. Check mle_retvals\n",
      "  \"Check mle_retvals\", ConvergenceWarning)\n",
      "C:\\Users\\cyriac.azefack\\AppData\\Local\\Continuum\\anaconda3\\lib\\site-packages\\pmdarima\\arima\\auto.py:327: UserWarning: Input time-series is completely constant; returning a (0, 0, 0) ARMA.\n",
      "  warnings.warn('Input time-series is completely constant; '\n",
      "C:\\Users\\cyriac.azefack\\AppData\\Local\\Continuum\\anaconda3\\lib\\site-packages\\statsmodels\\base\\model.py:512: ConvergenceWarning: Maximum Likelihood optimization failed to converge. Check mle_retvals\n",
      "  \"Check mle_retvals\", ConvergenceWarning)\n",
      "C:\\Users\\cyriac.azefack\\AppData\\Local\\Continuum\\anaconda3\\lib\\site-packages\\pmdarima\\arima\\auto.py:327: UserWarning: Input time-series is completely constant; returning a (0, 0, 0) ARMA.\n",
      "  warnings.warn('Input time-series is completely constant; '\n",
      "C:\\Users\\cyriac.azefack\\AppData\\Local\\Continuum\\anaconda3\\lib\\site-packages\\statsmodels\\base\\model.py:512: ConvergenceWarning: Maximum Likelihood optimization failed to converge. Check mle_retvals\n",
      "  \"Check mle_retvals\", ConvergenceWarning)\n",
      "C:\\Users\\cyriac.azefack\\AppData\\Local\\Continuum\\anaconda3\\lib\\site-packages\\pmdarima\\arima\\auto.py:327: UserWarning: Input time-series is completely constant; returning a (0, 0, 0) ARMA.\n",
      "  warnings.warn('Input time-series is completely constant; '\n"
     ]
    },
    {
     "name": "stdout",
     "output_type": "stream",
     "text": [
      "STD Duration Error (NMSE) : 1.00\n",
      "[relax] Duration forecasting...\n",
      "Mean Duration Forecasting...\n",
      "Mean Duration Error (NMSE) : 2666.56\n",
      "STD Duration Forecasting...\n",
      "STD Duration Error (NMSE) : 2016.85\n",
      "15/18 Macro-Activities Forecasting models done..."
     ]
    },
    {
     "name": "stderr",
     "output_type": "stream",
     "text": [
      "C:\\Users\\cyriac.azefack\\AppData\\Local\\Continuum\\anaconda3\\lib\\site-packages\\statsmodels\\base\\model.py:512: ConvergenceWarning: Maximum Likelihood optimization failed to converge. Check mle_retvals\n",
      "  \"Check mle_retvals\", ConvergenceWarning)\n"
     ]
    },
    {
     "name": "stdout",
     "output_type": "stream",
     "text": [
      "['meal_preparation', 'enter_home'] : MACRO-ACTIVITY{enter_home -- meal_preparation}\n"
     ]
    },
    {
     "name": "stderr",
     "output_type": "stream",
     "text": [
      "C:\\Users\\cyriac.azefack\\AppData\\Local\\Continuum\\anaconda3\\lib\\site-packages\\statsmodels\\base\\model.py:512: ConvergenceWarning: Maximum Likelihood optimization failed to converge. Check mle_retvals\n",
      "  \"Check mle_retvals\", ConvergenceWarning)\n"
     ]
    },
    {
     "name": "stdout",
     "output_type": "stream",
     "text": [
      "[enter_home] Duration forecasting...\n",
      "Mean Duration Forecasting...\n",
      "Mean Duration Error (NMSE) : 7.73\n",
      "STD Duration Forecasting...\n"
     ]
    },
    {
     "name": "stderr",
     "output_type": "stream",
     "text": [
      "C:\\Users\\cyriac.azefack\\AppData\\Local\\Continuum\\anaconda3\\lib\\site-packages\\pmdarima\\arima\\auto.py:327: UserWarning: Input time-series is completely constant; returning a (0, 0, 0) ARMA.\n",
      "  warnings.warn('Input time-series is completely constant; '\n",
      "C:\\Users\\cyriac.azefack\\AppData\\Local\\Continuum\\anaconda3\\lib\\site-packages\\statsmodels\\base\\model.py:512: ConvergenceWarning: Maximum Likelihood optimization failed to converge. Check mle_retvals\n",
      "  \"Check mle_retvals\", ConvergenceWarning)\n",
      "C:\\Users\\cyriac.azefack\\AppData\\Local\\Continuum\\anaconda3\\lib\\site-packages\\pmdarima\\arima\\auto.py:327: UserWarning: Input time-series is completely constant; returning a (0, 0, 0) ARMA.\n",
      "  warnings.warn('Input time-series is completely constant; '\n"
     ]
    },
    {
     "name": "stdout",
     "output_type": "stream",
     "text": [
      "STD Duration Error (NMSE) : 4.91\n",
      "[meal_preparation] Duration forecasting...\n",
      "Mean Duration Forecasting...\n",
      "Mean Duration Error (NMSE) : 549.42\n",
      "STD Duration Forecasting...\n"
     ]
    },
    {
     "name": "stderr",
     "output_type": "stream",
     "text": [
      "C:\\Users\\cyriac.azefack\\AppData\\Local\\Continuum\\anaconda3\\lib\\site-packages\\statsmodels\\base\\model.py:512: ConvergenceWarning: Maximum Likelihood optimization failed to converge. Check mle_retvals\n",
      "  \"Check mle_retvals\", ConvergenceWarning)\n",
      "C:\\Users\\cyriac.azefack\\AppData\\Local\\Continuum\\anaconda3\\lib\\site-packages\\pmdarima\\arima\\auto.py:327: UserWarning: Input time-series is completely constant; returning a (0, 0, 0) ARMA.\n",
      "  warnings.warn('Input time-series is completely constant; '\n",
      "C:\\Users\\cyriac.azefack\\AppData\\Local\\Continuum\\anaconda3\\lib\\site-packages\\statsmodels\\base\\model.py:512: ConvergenceWarning: Maximum Likelihood optimization failed to converge. Check mle_retvals\n",
      "  \"Check mle_retvals\", ConvergenceWarning)\n",
      "C:\\Users\\cyriac.azefack\\AppData\\Local\\Continuum\\anaconda3\\lib\\site-packages\\pmdarima\\arima\\auto.py:327: UserWarning: Input time-series is completely constant; returning a (0, 0, 0) ARMA.\n",
      "  warnings.warn('Input time-series is completely constant; '\n"
     ]
    },
    {
     "name": "stdout",
     "output_type": "stream",
     "text": [
      "STD Duration Error (NMSE) : 499.45\n",
      "\r",
      "16/18 Macro-Activities Forecasting models done..."
     ]
    },
    {
     "name": "stderr",
     "output_type": "stream",
     "text": [
      "C:\\Users\\cyriac.azefack\\AppData\\Local\\Continuum\\anaconda3\\lib\\site-packages\\statsmodels\\base\\model.py:512: ConvergenceWarning: Maximum Likelihood optimization failed to converge. Check mle_retvals\n",
      "  \"Check mle_retvals\", ConvergenceWarning)\n"
     ]
    },
    {
     "name": "stdout",
     "output_type": "stream",
     "text": [
      "['others'] : SINGLE-ACTIVITY{others}\n"
     ]
    },
    {
     "name": "stderr",
     "output_type": "stream",
     "text": [
      "C:\\Users\\cyriac.azefack\\AppData\\Local\\Continuum\\anaconda3\\lib\\site-packages\\statsmodels\\base\\model.py:512: ConvergenceWarning: Maximum Likelihood optimization failed to converge. Check mle_retvals\n",
      "  \"Check mle_retvals\", ConvergenceWarning)\n"
     ]
    },
    {
     "name": "stdout",
     "output_type": "stream",
     "text": [
      "[others] Duration forecasting...\n",
      "Mean Duration Forecasting...\n",
      "Mean Duration Error (NMSE) : 737.84\n",
      "STD Duration Forecasting...\n"
     ]
    },
    {
     "name": "stderr",
     "output_type": "stream",
     "text": [
      "C:\\Users\\cyriac.azefack\\AppData\\Local\\Continuum\\anaconda3\\lib\\site-packages\\pmdarima\\arima\\auto.py:327: UserWarning: Input time-series is completely constant; returning a (0, 0, 0) ARMA.\n",
      "  warnings.warn('Input time-series is completely constant; '\n",
      "C:\\Users\\cyriac.azefack\\AppData\\Local\\Continuum\\anaconda3\\lib\\site-packages\\statsmodels\\base\\model.py:512: ConvergenceWarning: Maximum Likelihood optimization failed to converge. Check mle_retvals\n",
      "  \"Check mle_retvals\", ConvergenceWarning)\n",
      "C:\\Users\\cyriac.azefack\\AppData\\Local\\Continuum\\anaconda3\\lib\\site-packages\\pmdarima\\arima\\auto.py:327: UserWarning: Input time-series is completely constant; returning a (0, 0, 0) ARMA.\n",
      "  warnings.warn('Input time-series is completely constant; '\n"
     ]
    },
    {
     "name": "stdout",
     "output_type": "stream",
     "text": [
      "STD Duration Error (NMSE) : nan\n",
      "\r",
      "17/18 Macro-Activities Forecasting models done..."
     ]
    },
    {
     "name": "stderr",
     "output_type": "stream",
     "text": [
      "C:\\Users\\cyriac.azefack\\AppData\\Local\\Continuum\\anaconda3\\lib\\site-packages\\statsmodels\\base\\model.py:512: ConvergenceWarning: Maximum Likelihood optimization failed to converge. Check mle_retvals\n",
      "  \"Check mle_retvals\", ConvergenceWarning)\n",
      "C:\\Users\\cyriac.azefack\\Workspace\\Frailty_Box\\Simulation\\MacroActivity.py:704: RuntimeWarning: invalid value encountered in double_scalars\n",
      "  nmse_error = mean_squared_error(test, validation_forecast)/np.mean(test)\n"
     ]
    },
    {
     "name": "stdout",
     "output_type": "stream",
     "text": [
      "['bed_to_toilet', 'sleeping'] : MACRO-ACTIVITY{bed_to_toilet -- sleeping}\n"
     ]
    },
    {
     "name": "stderr",
     "output_type": "stream",
     "text": [
      "C:\\Users\\cyriac.azefack\\AppData\\Local\\Continuum\\anaconda3\\lib\\site-packages\\statsmodels\\base\\model.py:512: ConvergenceWarning: Maximum Likelihood optimization failed to converge. Check mle_retvals\n",
      "  \"Check mle_retvals\", ConvergenceWarning)\n"
     ]
    },
    {
     "name": "stdout",
     "output_type": "stream",
     "text": [
      "[bed_to_toilet] Duration forecasting...\n",
      "Mean Duration Forecasting...\n",
      "Mean Duration Error (NMSE) : 124.83\n",
      "STD Duration Forecasting...\n"
     ]
    },
    {
     "name": "stderr",
     "output_type": "stream",
     "text": [
      "C:\\Users\\cyriac.azefack\\AppData\\Local\\Continuum\\anaconda3\\lib\\site-packages\\pmdarima\\arima\\auto.py:327: UserWarning: Input time-series is completely constant; returning a (0, 0, 0) ARMA.\n",
      "  warnings.warn('Input time-series is completely constant; '\n",
      "C:\\Users\\cyriac.azefack\\AppData\\Local\\Continuum\\anaconda3\\lib\\site-packages\\statsmodels\\base\\model.py:512: ConvergenceWarning: Maximum Likelihood optimization failed to converge. Check mle_retvals\n",
      "  \"Check mle_retvals\", ConvergenceWarning)\n",
      "C:\\Users\\cyriac.azefack\\AppData\\Local\\Continuum\\anaconda3\\lib\\site-packages\\pmdarima\\arima\\auto.py:327: UserWarning: Input time-series is completely constant; returning a (0, 0, 0) ARMA.\n",
      "  warnings.warn('Input time-series is completely constant; '\n",
      "C:\\Users\\cyriac.azefack\\AppData\\Local\\Continuum\\anaconda3\\lib\\site-packages\\statsmodels\\base\\model.py:512: ConvergenceWarning: Maximum Likelihood optimization failed to converge. Check mle_retvals\n",
      "  \"Check mle_retvals\", ConvergenceWarning)\n",
      "C:\\Users\\cyriac.azefack\\AppData\\Local\\Continuum\\anaconda3\\lib\\site-packages\\pmdarima\\arima\\auto.py:327: UserWarning: Input time-series is completely constant; returning a (0, 0, 0) ARMA.\n",
      "  warnings.warn('Input time-series is completely constant; '\n",
      "C:\\Users\\cyriac.azefack\\AppData\\Local\\Continuum\\anaconda3\\lib\\site-packages\\statsmodels\\base\\model.py:512: ConvergenceWarning: Maximum Likelihood optimization failed to converge. Check mle_retvals\n",
      "  \"Check mle_retvals\", ConvergenceWarning)\n",
      "C:\\Users\\cyriac.azefack\\AppData\\Local\\Continuum\\anaconda3\\lib\\site-packages\\pmdarima\\arima\\auto.py:327: UserWarning: Input time-series is completely constant; returning a (0, 0, 0) ARMA.\n",
      "  warnings.warn('Input time-series is completely constant; '\n"
     ]
    },
    {
     "name": "stdout",
     "output_type": "stream",
     "text": [
      "STD Duration Error (NMSE) : 18.31\n",
      "[sleeping] Duration forecasting...\n",
      "Mean Duration Forecasting...\n",
      "Mean Duration Error (NMSE) : 6701.50\n",
      "STD Duration Forecasting...\n",
      "STD Duration Error (NMSE) : 5609.26\n",
      "18/18 Macro-Activities Forecasting models done...\n"
     ]
    },
    {
     "name": "stderr",
     "output_type": "stream",
     "text": [
      "C:\\Users\\cyriac.azefack\\AppData\\Local\\Continuum\\anaconda3\\lib\\site-packages\\statsmodels\\base\\model.py:512: ConvergenceWarning: Maximum Likelihood optimization failed to converge. Check mle_retvals\n",
      "  \"Check mle_retvals\", ConvergenceWarning)\n"
     ]
    },
    {
     "data": {
      "image/png": "[encoded data removed]",
      "text/plain": [
       "<Figure size 432x288 with 1 Axes>"
      ]
     },
     "metadata": {
      "needs_background": "light"
     },
     "output_type": "display_data"
    },
    {
     "data": {
      "image/png": "[encoded data removed]",
      "text/plain": [
       "<Figure size 432x288 with 1 Axes>"
      ]
     },
     "metadata": {
      "needs_background": "light"
     },
     "output_type": "display_data"
    },
    {
     "name": "stdout",
     "output_type": "stream",
     "text": [
      "###################################\n",
      "# Simulation replication N°1     #\n",
      "###################################\n",
      "99.83 %% of Simulation done!!\n",
      "Time elapsed for the simulation : 0:00:11.400000\n",
      "###################################\n",
      "# Simulation replication N°2     #\n",
      "###################################\n",
      "99.86 %% of Simulation done!!\n",
      "Time elapsed for the simulation : 0:00:10.200000\n",
      "###################################\n",
      "# Simulation replication N°3     #\n",
      "###################################\n",
      "99.83 %% of Simulation done!!\n",
      "Time elapsed for the simulation : 0:00:08.400000\n",
      "###################################\n",
      "# Simulation replication N°4     #\n",
      "###################################\n",
      "99.79 %% of Simulation done!!\n",
      "Time elapsed for the simulation : 0:00:09.600000\n",
      "###################################\n",
      "# Simulation replication N°5     #\n",
      "###################################\n",
      "99.98 %% of Simulation done!!\n",
      "Time elapsed for the simulation : 0:00:09.600000\n",
      "###################################\n",
      "# Simulation replication N°6     #\n",
      "###################################\n",
      "99.96 %% of Simulation done!!\n",
      "Time elapsed for the simulation : 0:00:10.300000\n",
      "###################################\n",
      "# Simulation replication N°7     #\n",
      "###################################\n",
      "99.98 %% of Simulation done!!\n",
      "Time elapsed for the simulation : 0:00:12.500000\n",
      "###################################\n",
      "# Simulation replication N°8     #\n",
      "###################################\n",
      "99.94 %% of Simulation done!!\n",
      "Time elapsed for the simulation : 0:00:09.400000\n",
      "###################################\n",
      "# Simulation replication N°9     #\n",
      "###################################\n",
      "99.98 %% of Simulation done!!\n",
      "Time elapsed for the simulation : 0:00:10\n",
      "###################################\n",
      "# Simulation replication N°10     #\n",
      "###################################\n",
      "99.92 %% of Simulation done!!\n",
      "Time elapsed for the simulation : 0:00:08.900000\n"
     ]
    }
   ],
   "source": [
    "%prun\n",
    "bm.main(args)"
   ]
  },
  {
   "cell_type": "code",
   "execution_count": null,
   "metadata": {},
   "outputs": [],
   "source": []
  }
 ],
 "metadata": {
  "kernelspec": {
   "display_name": "Python 3",
   "language": "python",
   "name": "python3"
  },
  "language_info": {
   "codemirror_mode": {
    "name": "ipython",
    "version": 3
   },
   "file_extension": ".py",
   "mimetype": "text/x-python",
   "name": "python",
   "nbconvert_exporter": "python",
   "pygments_lexer": "ipython3",
   "version": "3.7.4"
  }
 },
 "nbformat": 4,
 "nbformat_minor": 2
}
