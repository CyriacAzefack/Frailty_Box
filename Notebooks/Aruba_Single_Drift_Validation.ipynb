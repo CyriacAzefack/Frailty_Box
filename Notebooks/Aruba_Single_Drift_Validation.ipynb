{
 "cells": [
  {
   "cell_type": "code",
   "execution_count": 1,
   "metadata": {},
   "outputs": [],
   "source": [
    "import sys\n",
    "sys.path.append(\"../\")\n",
    "from Behavior_Drift import *\n",
    "from Data_Drift import Drift_Detector"
   ]
  },
  {
   "cell_type": "code",
   "execution_count": 2,
   "metadata": {
    "scrolled": false
   },
   "outputs": [
    {
     "name": "stdout",
     "output_type": "stream",
     "text": [
      "Starting building similarity distance_matrix...\n"
     ]
    },
    {
     "name": "stderr",
     "output_type": "stream",
     "text": [
      "Similarity Matrix Construction: 100%|██████████| 213/213 [00:04<00:00, 50.12it/s]\n"
     ]
    },
    {
     "name": "stdout",
     "output_type": "stream",
     "text": [
      "Finish building similarity distance_matrix...\n",
      "Chosen Number of Clusters : 2\n",
      "Starting building similarity distance_matrix...\n"
     ]
    },
    {
     "name": "stderr",
     "output_type": "stream",
     "text": [
      "Similarity Matrix Construction: 100%|██████████| 213/213 [00:04<00:00, 52.82it/s] \n"
     ]
    },
    {
     "name": "stdout",
     "output_type": "stream",
     "text": [
      "Finish building similarity distance_matrix...\n",
      "Chosen Number of Clusters : 2\n",
      "Starting building similarity distance_matrix...\n"
     ]
    },
    {
     "name": "stderr",
     "output_type": "stream",
     "text": [
      "Similarity Matrix Construction: 100%|██████████| 210/210 [00:02<00:00, 77.52it/s] \n"
     ]
    },
    {
     "name": "stdout",
     "output_type": "stream",
     "text": [
      "Finish building similarity distance_matrix...\n",
      "Chosen Number of Clusters : 3\n",
      "Starting building similarity distance_matrix...\n"
     ]
    },
    {
     "name": "stderr",
     "output_type": "stream",
     "text": [
      "Similarity Matrix Construction: 100%|██████████| 210/210 [00:02<00:00, 78.95it/s] \n"
     ]
    },
    {
     "name": "stdout",
     "output_type": "stream",
     "text": [
      "Finish building similarity distance_matrix...\n",
      "Chosen Number of Clusters : 2\n",
      "Starting building similarity distance_matrix...\n"
     ]
    },
    {
     "name": "stderr",
     "output_type": "stream",
     "text": [
      "Similarity Matrix Construction: 100%|██████████| 213/213 [00:12<00:00, 17.28it/s]\n"
     ]
    },
    {
     "name": "stdout",
     "output_type": "stream",
     "text": [
      "Finish building similarity distance_matrix...\n",
      "Chosen Number of Clusters : 2\n",
      "Starting building similarity distance_matrix...\n"
     ]
    },
    {
     "name": "stderr",
     "output_type": "stream",
     "text": [
      "Similarity Matrix Construction: 100%|██████████| 213/213 [00:12<00:00, 17.41it/s]\n"
     ]
    },
    {
     "name": "stdout",
     "output_type": "stream",
     "text": [
      "Finish building similarity distance_matrix...\n",
      "Chosen Number of Clusters : 4\n",
      "Starting building similarity distance_matrix...\n"
     ]
    },
    {
     "name": "stderr",
     "output_type": "stream",
     "text": [
      "Similarity Matrix Construction: 100%|██████████| 213/213 [00:20<00:00, 10.49it/s]\n"
     ]
    },
    {
     "name": "stdout",
     "output_type": "stream",
     "text": [
      "Finish building similarity distance_matrix...\n",
      "Chosen Number of Clusters : 2\n",
      "Starting building similarity distance_matrix...\n"
     ]
    },
    {
     "name": "stderr",
     "output_type": "stream",
     "text": [
      "Similarity Matrix Construction: 100%|██████████| 213/213 [01:07<00:00,  3.15it/s]\n"
     ]
    },
    {
     "name": "stdout",
     "output_type": "stream",
     "text": [
      "Finish building similarity distance_matrix...\n",
      "Chosen Number of Clusters : 5\n",
      "Starting building similarity distance_matrix...\n"
     ]
    },
    {
     "name": "stderr",
     "output_type": "stream",
     "text": [
      "Similarity Matrix Construction: 100%|██████████| 100/100 [00:00<00:00, 113.25it/s]\n"
     ]
    },
    {
     "name": "stdout",
     "output_type": "stream",
     "text": [
      "Finish building similarity distance_matrix...\n",
      "Chosen Number of Clusters : 2\n",
      "Starting building similarity distance_matrix...\n"
     ]
    },
    {
     "name": "stderr",
     "output_type": "stream",
     "text": [
      "Similarity Matrix Construction: 100%|██████████| 100/100 [00:00<00:00, 119.58it/s]\n"
     ]
    },
    {
     "name": "stdout",
     "output_type": "stream",
     "text": [
      "Finish building similarity distance_matrix...\n",
      "Chosen Number of Clusters : 2\n",
      "Starting building similarity distance_matrix...\n"
     ]
    },
    {
     "name": "stderr",
     "output_type": "stream",
     "text": [
      "Similarity Matrix Construction: 100%|██████████| 213/213 [00:10<00:00, 20.23it/s]\n"
     ]
    },
    {
     "name": "stdout",
     "output_type": "stream",
     "text": [
      "Finish building similarity distance_matrix...\n",
      "Chosen Number of Clusters : 2\n",
      "Starting building similarity distance_matrix...\n"
     ]
    },
    {
     "name": "stderr",
     "output_type": "stream",
     "text": [
      "Similarity Matrix Construction: 100%|██████████| 213/213 [00:07<00:00, 29.63it/s]\n"
     ]
    },
    {
     "name": "stdout",
     "output_type": "stream",
     "text": [
      "Finish building similarity distance_matrix...\n",
      "Chosen Number of Clusters : 2\n",
      "Starting building similarity distance_matrix...\n"
     ]
    },
    {
     "name": "stderr",
     "output_type": "stream",
     "text": [
      "Similarity Matrix Construction: 100%|██████████| 194/194 [00:02<00:00, 79.66it/s]\n"
     ]
    },
    {
     "name": "stdout",
     "output_type": "stream",
     "text": [
      "Finish building similarity distance_matrix...\n",
      "Chosen Number of Clusters : 2\n",
      "Starting building similarity distance_matrix...\n"
     ]
    },
    {
     "name": "stderr",
     "output_type": "stream",
     "text": [
      "Similarity Matrix Construction: 100%|██████████| 194/194 [00:03<00:00, 49.64it/s]\n"
     ]
    },
    {
     "name": "stdout",
     "output_type": "stream",
     "text": [
      "Finish building similarity distance_matrix...\n",
      "Chosen Number of Clusters : 2\n",
      "Starting building similarity distance_matrix...\n"
     ]
    },
    {
     "name": "stderr",
     "output_type": "stream",
     "text": [
      "Similarity Matrix Construction: 100%|██████████| 211/211 [00:17<00:00, 12.39it/s]\n"
     ]
    },
    {
     "name": "stdout",
     "output_type": "stream",
     "text": [
      "Finish building similarity distance_matrix...\n",
      "Chosen Number of Clusters : 9\n",
      "Starting building similarity distance_matrix...\n"
     ]
    },
    {
     "name": "stderr",
     "output_type": "stream",
     "text": [
      "Similarity Matrix Construction: 100%|██████████| 211/211 [00:12<00:00, 16.58it/s]\n"
     ]
    },
    {
     "name": "stdout",
     "output_type": "stream",
     "text": [
      "Finish building similarity distance_matrix...\n",
      "Chosen Number of Clusters : 3\n",
      "Starting building similarity distance_matrix...\n"
     ]
    },
    {
     "name": "stderr",
     "output_type": "stream",
     "text": [
      "Similarity Matrix Construction: 100%|██████████| 212/212 [00:11<00:00, 17.89it/s]\n"
     ]
    },
    {
     "name": "stdout",
     "output_type": "stream",
     "text": [
      "Finish building similarity distance_matrix...\n",
      "Chosen Number of Clusters : 3\n",
      "Starting building similarity distance_matrix...\n"
     ]
    },
    {
     "name": "stderr",
     "output_type": "stream",
     "text": [
      "Similarity Matrix Construction: 100%|██████████| 212/212 [00:07<00:00, 30.12it/s]\n"
     ]
    },
    {
     "name": "stdout",
     "output_type": "stream",
     "text": [
      "Finish building similarity distance_matrix...\n",
      "Chosen Number of Clusters : 2\n",
      "Starting building similarity distance_matrix...\n"
     ]
    },
    {
     "name": "stderr",
     "output_type": "stream",
     "text": [
      "Similarity Matrix Construction: 100%|██████████| 213/213 [00:02<00:00, 72.32it/s] \n"
     ]
    },
    {
     "name": "stdout",
     "output_type": "stream",
     "text": [
      "Finish building similarity distance_matrix...\n",
      "Chosen Number of Clusters : 2\n",
      "Starting building similarity distance_matrix...\n"
     ]
    },
    {
     "name": "stderr",
     "output_type": "stream",
     "text": [
      "Similarity Matrix Construction: 100%|██████████| 213/213 [00:02<00:00, 73.53it/s] \n"
     ]
    },
    {
     "name": "stdout",
     "output_type": "stream",
     "text": [
      "Finish building similarity distance_matrix...\n",
      "Chosen Number of Clusters : 2\n",
      "Starting building similarity distance_matrix...\n"
     ]
    },
    {
     "name": "stderr",
     "output_type": "stream",
     "text": [
      "Similarity Matrix Construction: 100%|██████████| 173/173 [00:00<00:00, 448.75it/s]\n"
     ]
    },
    {
     "name": "stdout",
     "output_type": "stream",
     "text": [
      "Finish building similarity distance_matrix...\n",
      "Chosen Number of Clusters : 2\n",
      "Starting building similarity distance_matrix...\n"
     ]
    },
    {
     "name": "stderr",
     "output_type": "stream",
     "text": [
      "Similarity Matrix Construction: 100%|██████████| 173/173 [00:00<00:00, 505.73it/s]\n"
     ]
    },
    {
     "name": "stdout",
     "output_type": "stream",
     "text": [
      "Finish building similarity distance_matrix...\n",
      "Chosen Number of Clusters : 2\n"
     ]
    }
   ],
   "source": [
    "data_name = 'ARUBA'\n",
    "\n",
    "data = pick_dataset(data_name, nb_days=-1)\n",
    "\n",
    "\n",
    "results = pd.DataFrame(columns=['activity', 'profile', 'n_cluster', 'silhouette'])\n",
    "\n",
    "window_size = dt.timedelta(days=7)\n",
    "\n",
    "labels = data.label.unique()\n",
    "profiles = ['time', 'duration']\n",
    "\n",
    "for label in labels:\n",
    "    for profile in profiles :\n",
    "        clusters, silhouette = Drift_Detector.activity_drift_detector(data, window_size, label, validation=False,\n",
    "                                                                      profile=profile)\n",
    "        results.loc[len(results)] = [label, profile, len(clusters), silhouette]\n",
    "\n"
   ]
  },
  {
   "cell_type": "code",
   "execution_count": 4,
   "metadata": {},
   "outputs": [
    {
     "data": {
      "text/html": [
       "<div>\n",
       "<style scoped>\n",
       "    .dataframe tbody tr th:only-of-type {\n",
       "        vertical-align: middle;\n",
       "    }\n",
       "\n",
       "    .dataframe tbody tr th {\n",
       "        vertical-align: top;\n",
       "    }\n",
       "\n",
       "    .dataframe thead th {\n",
       "        text-align: right;\n",
       "    }\n",
       "</style>\n",
       "<table border=\"1\" class=\"dataframe\">\n",
       "  <thead>\n",
       "    <tr style=\"text-align: right;\">\n",
       "      <th></th>\n",
       "      <th>activity</th>\n",
       "      <th>profile</th>\n",
       "      <th>n_cluster</th>\n",
       "      <th>silhouette</th>\n",
       "    </tr>\n",
       "  </thead>\n",
       "  <tbody>\n",
       "    <tr>\n",
       "      <th>20</th>\n",
       "      <td>others</td>\n",
       "      <td>time</td>\n",
       "      <td>2</td>\n",
       "      <td>0.998287</td>\n",
       "    </tr>\n",
       "    <tr>\n",
       "      <th>21</th>\n",
       "      <td>others</td>\n",
       "      <td>duration</td>\n",
       "      <td>2</td>\n",
       "      <td>0.996789</td>\n",
       "    </tr>\n",
       "    <tr>\n",
       "      <th>9</th>\n",
       "      <td>housekeeping</td>\n",
       "      <td>duration</td>\n",
       "      <td>2</td>\n",
       "      <td>0.827793</td>\n",
       "    </tr>\n",
       "    <tr>\n",
       "      <th>8</th>\n",
       "      <td>housekeeping</td>\n",
       "      <td>time</td>\n",
       "      <td>2</td>\n",
       "      <td>0.799830</td>\n",
       "    </tr>\n",
       "    <tr>\n",
       "      <th>12</th>\n",
       "      <td>wash_dishes</td>\n",
       "      <td>time</td>\n",
       "      <td>2</td>\n",
       "      <td>0.778480</td>\n",
       "    </tr>\n",
       "    <tr>\n",
       "      <th>13</th>\n",
       "      <td>wash_dishes</td>\n",
       "      <td>duration</td>\n",
       "      <td>2</td>\n",
       "      <td>0.747288</td>\n",
       "    </tr>\n",
       "    <tr>\n",
       "      <th>11</th>\n",
       "      <td>eating</td>\n",
       "      <td>duration</td>\n",
       "      <td>2</td>\n",
       "      <td>0.574212</td>\n",
       "    </tr>\n",
       "    <tr>\n",
       "      <th>19</th>\n",
       "      <td>work</td>\n",
       "      <td>duration</td>\n",
       "      <td>2</td>\n",
       "      <td>0.534464</td>\n",
       "    </tr>\n",
       "    <tr>\n",
       "      <th>0</th>\n",
       "      <td>sleeping</td>\n",
       "      <td>time</td>\n",
       "      <td>2</td>\n",
       "      <td>0.494851</td>\n",
       "    </tr>\n",
       "    <tr>\n",
       "      <th>7</th>\n",
       "      <td>relax</td>\n",
       "      <td>duration</td>\n",
       "      <td>5</td>\n",
       "      <td>0.474044</td>\n",
       "    </tr>\n",
       "    <tr>\n",
       "      <th>1</th>\n",
       "      <td>sleeping</td>\n",
       "      <td>duration</td>\n",
       "      <td>2</td>\n",
       "      <td>0.470676</td>\n",
       "    </tr>\n",
       "    <tr>\n",
       "      <th>18</th>\n",
       "      <td>work</td>\n",
       "      <td>time</td>\n",
       "      <td>2</td>\n",
       "      <td>0.466163</td>\n",
       "    </tr>\n",
       "    <tr>\n",
       "      <th>10</th>\n",
       "      <td>eating</td>\n",
       "      <td>time</td>\n",
       "      <td>2</td>\n",
       "      <td>0.417806</td>\n",
       "    </tr>\n",
       "    <tr>\n",
       "      <th>3</th>\n",
       "      <td>bed_to_toilet</td>\n",
       "      <td>duration</td>\n",
       "      <td>2</td>\n",
       "      <td>0.417680</td>\n",
       "    </tr>\n",
       "    <tr>\n",
       "      <th>15</th>\n",
       "      <td>leave_home</td>\n",
       "      <td>duration</td>\n",
       "      <td>3</td>\n",
       "      <td>0.397014</td>\n",
       "    </tr>\n",
       "    <tr>\n",
       "      <th>17</th>\n",
       "      <td>enter_home</td>\n",
       "      <td>duration</td>\n",
       "      <td>2</td>\n",
       "      <td>0.390260</td>\n",
       "    </tr>\n",
       "    <tr>\n",
       "      <th>5</th>\n",
       "      <td>meal_preparation</td>\n",
       "      <td>duration</td>\n",
       "      <td>4</td>\n",
       "      <td>0.344802</td>\n",
       "    </tr>\n",
       "    <tr>\n",
       "      <th>6</th>\n",
       "      <td>relax</td>\n",
       "      <td>time</td>\n",
       "      <td>2</td>\n",
       "      <td>0.338345</td>\n",
       "    </tr>\n",
       "    <tr>\n",
       "      <th>14</th>\n",
       "      <td>leave_home</td>\n",
       "      <td>time</td>\n",
       "      <td>9</td>\n",
       "      <td>0.334684</td>\n",
       "    </tr>\n",
       "    <tr>\n",
       "      <th>2</th>\n",
       "      <td>bed_to_toilet</td>\n",
       "      <td>time</td>\n",
       "      <td>3</td>\n",
       "      <td>0.307677</td>\n",
       "    </tr>\n",
       "    <tr>\n",
       "      <th>16</th>\n",
       "      <td>enter_home</td>\n",
       "      <td>time</td>\n",
       "      <td>3</td>\n",
       "      <td>0.285596</td>\n",
       "    </tr>\n",
       "    <tr>\n",
       "      <th>4</th>\n",
       "      <td>meal_preparation</td>\n",
       "      <td>time</td>\n",
       "      <td>2</td>\n",
       "      <td>0.273874</td>\n",
       "    </tr>\n",
       "  </tbody>\n",
       "</table>\n",
       "</div>"
      ],
      "text/plain": [
       "            activity   profile n_cluster  silhouette\n",
       "20            others      time         2    0.998287\n",
       "21            others  duration         2    0.996789\n",
       "9       housekeeping  duration         2    0.827793\n",
       "8       housekeeping      time         2    0.799830\n",
       "12       wash_dishes      time         2    0.778480\n",
       "13       wash_dishes  duration         2    0.747288\n",
       "11            eating  duration         2    0.574212\n",
       "19              work  duration         2    0.534464\n",
       "0           sleeping      time         2    0.494851\n",
       "7              relax  duration         5    0.474044\n",
       "1           sleeping  duration         2    0.470676\n",
       "18              work      time         2    0.466163\n",
       "10            eating      time         2    0.417806\n",
       "3      bed_to_toilet  duration         2    0.417680\n",
       "15        leave_home  duration         3    0.397014\n",
       "17        enter_home  duration         2    0.390260\n",
       "5   meal_preparation  duration         4    0.344802\n",
       "6              relax      time         2    0.338345\n",
       "14        leave_home      time         9    0.334684\n",
       "2      bed_to_toilet      time         3    0.307677\n",
       "16        enter_home      time         3    0.285596\n",
       "4   meal_preparation      time         2    0.273874"
      ]
     },
     "execution_count": 4,
     "metadata": {},
     "output_type": "execute_result"
    }
   ],
   "source": [
    "results.sort_values(['silhouette'], ascending=False)"
   ]
  },
  {
   "cell_type": "code",
   "execution_count": null,
   "metadata": {},
   "outputs": [],
   "source": []
  }
 ],
 "metadata": {
  "kernelspec": {
   "display_name": "Python 3",
   "language": "python",
   "name": "python3"
  },
  "language_info": {
   "codemirror_mode": {
    "name": "ipython",
    "version": 3
   },
   "file_extension": ".py",
   "mimetype": "text/x-python",
   "name": "python",
   "nbconvert_exporter": "python",
   "pygments_lexer": "ipython3",
   "version": "3.7.4"
  }
 },
 "nbformat": 4,
 "nbformat_minor": 2
}
