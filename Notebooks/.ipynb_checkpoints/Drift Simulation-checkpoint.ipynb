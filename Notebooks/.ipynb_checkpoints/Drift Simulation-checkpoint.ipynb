{
 "cells": [
  {
   "cell_type": "code",
   "execution_count": 12,
   "metadata": {},
   "outputs": [],
   "source": [
    "import pandas as pd\n",
    "import numpy as np\n",
    "import seaborn as sns\n",
    "import datetime as dt\n",
    "sns.set_style('darkgrid')\n",
    "\n",
    "import sys\n",
    "sys.path.append(\"../\")\n",
    "from Utils import *"
   ]
  },
  {
   "cell_type": "code",
   "execution_count": 13,
   "metadata": {},
   "outputs": [
    {
     "data": {
      "text/html": [
       "<div>\n",
       "<style scoped>\n",
       "    .dataframe tbody tr th:only-of-type {\n",
       "        vertical-align: middle;\n",
       "    }\n",
       "\n",
       "    .dataframe tbody tr th {\n",
       "        vertical-align: top;\n",
       "    }\n",
       "\n",
       "    .dataframe thead th {\n",
       "        text-align: right;\n",
       "    }\n",
       "</style>\n",
       "<table border=\"1\" class=\"dataframe\">\n",
       "  <thead>\n",
       "    <tr style=\"text-align: right;\">\n",
       "      <th></th>\n",
       "      <th>date</th>\n",
       "      <th>end_date</th>\n",
       "      <th>label</th>\n",
       "      <th>duration</th>\n",
       "      <th>day_ts</th>\n",
       "    </tr>\n",
       "  </thead>\n",
       "  <tbody>\n",
       "    <tr>\n",
       "      <th>0</th>\n",
       "      <td>2010-11-04 00:03:50.209589</td>\n",
       "      <td>2010-11-04 05:40:43.642664</td>\n",
       "      <td>sleeping</td>\n",
       "      <td>20213.433075</td>\n",
       "      <td>65030.209589</td>\n",
       "    </tr>\n",
       "    <tr>\n",
       "      <th>1</th>\n",
       "      <td>2010-11-04 05:40:51.303739</td>\n",
       "      <td>2010-11-04 05:43:30.279021</td>\n",
       "      <td>bed_to_toilet</td>\n",
       "      <td>158.975282</td>\n",
       "      <td>85251.303739</td>\n",
       "    </tr>\n",
       "    <tr>\n",
       "      <th>2</th>\n",
       "      <td>2010-11-04 05:43:45.732400</td>\n",
       "      <td>2010-11-04 08:01:12.282970</td>\n",
       "      <td>sleeping</td>\n",
       "      <td>8246.550570</td>\n",
       "      <td>85425.732400</td>\n",
       "    </tr>\n",
       "    <tr>\n",
       "      <th>3</th>\n",
       "      <td>2010-11-04 08:11:09.966157</td>\n",
       "      <td>2010-11-04 08:27:02.801314</td>\n",
       "      <td>meal_preparation</td>\n",
       "      <td>952.835157</td>\n",
       "      <td>7869.966157</td>\n",
       "    </tr>\n",
       "    <tr>\n",
       "      <th>4</th>\n",
       "      <td>2010-11-04 08:33:52.929406</td>\n",
       "      <td>2010-11-04 08:35:45.822482</td>\n",
       "      <td>meal_preparation</td>\n",
       "      <td>112.893076</td>\n",
       "      <td>9232.929406</td>\n",
       "    </tr>\n",
       "    <tr>\n",
       "      <th>...</th>\n",
       "      <td>...</td>\n",
       "      <td>...</td>\n",
       "      <td>...</td>\n",
       "      <td>...</td>\n",
       "      <td>...</td>\n",
       "    </tr>\n",
       "    <tr>\n",
       "      <th>6435</th>\n",
       "      <td>2011-06-11 17:58:01.269227</td>\n",
       "      <td>2011-06-11 18:14:30.112460</td>\n",
       "      <td>relax</td>\n",
       "      <td>988.843233</td>\n",
       "      <td>43081.269227</td>\n",
       "    </tr>\n",
       "    <tr>\n",
       "      <th>6436</th>\n",
       "      <td>2011-06-11 18:17:06.835188</td>\n",
       "      <td>2011-06-11 20:33:44.453476</td>\n",
       "      <td>relax</td>\n",
       "      <td>8197.618288</td>\n",
       "      <td>44226.835188</td>\n",
       "    </tr>\n",
       "    <tr>\n",
       "      <th>6437</th>\n",
       "      <td>2011-06-11 20:51:40.625871</td>\n",
       "      <td>2011-06-11 21:18:10.632466</td>\n",
       "      <td>relax</td>\n",
       "      <td>1590.006595</td>\n",
       "      <td>53500.625871</td>\n",
       "    </tr>\n",
       "    <tr>\n",
       "      <th>6438</th>\n",
       "      <td>2011-06-11 21:18:58.841500</td>\n",
       "      <td>2011-06-11 22:05:07.486416</td>\n",
       "      <td>relax</td>\n",
       "      <td>2768.644916</td>\n",
       "      <td>55138.841500</td>\n",
       "    </tr>\n",
       "    <tr>\n",
       "      <th>6439</th>\n",
       "      <td>2011-06-11 22:10:29.729309</td>\n",
       "      <td>2011-06-11 23:58:10.004834</td>\n",
       "      <td>sleeping</td>\n",
       "      <td>6460.275525</td>\n",
       "      <td>58229.729309</td>\n",
       "    </tr>\n",
       "  </tbody>\n",
       "</table>\n",
       "<p>6440 rows × 5 columns</p>\n",
       "</div>"
      ],
      "text/plain": [
       "                           date                   end_date             label  \\\n",
       "0    2010-11-04 00:03:50.209589 2010-11-04 05:40:43.642664          sleeping   \n",
       "1    2010-11-04 05:40:51.303739 2010-11-04 05:43:30.279021     bed_to_toilet   \n",
       "2    2010-11-04 05:43:45.732400 2010-11-04 08:01:12.282970          sleeping   \n",
       "3    2010-11-04 08:11:09.966157 2010-11-04 08:27:02.801314  meal_preparation   \n",
       "4    2010-11-04 08:33:52.929406 2010-11-04 08:35:45.822482  meal_preparation   \n",
       "...                         ...                        ...               ...   \n",
       "6435 2011-06-11 17:58:01.269227 2011-06-11 18:14:30.112460             relax   \n",
       "6436 2011-06-11 18:17:06.835188 2011-06-11 20:33:44.453476             relax   \n",
       "6437 2011-06-11 20:51:40.625871 2011-06-11 21:18:10.632466             relax   \n",
       "6438 2011-06-11 21:18:58.841500 2011-06-11 22:05:07.486416             relax   \n",
       "6439 2011-06-11 22:10:29.729309 2011-06-11 23:58:10.004834          sleeping   \n",
       "\n",
       "          duration        day_ts  \n",
       "0     20213.433075  65030.209589  \n",
       "1       158.975282  85251.303739  \n",
       "2      8246.550570  85425.732400  \n",
       "3       952.835157   7869.966157  \n",
       "4       112.893076   9232.929406  \n",
       "...            ...           ...  \n",
       "6435    988.843233  43081.269227  \n",
       "6436   8197.618288  44226.835188  \n",
       "6437   1590.006595  53500.625871  \n",
       "6438   2768.644916  55138.841500  \n",
       "6439   6460.275525  58229.729309  \n",
       "\n",
       "[6440 rows x 5 columns]"
      ]
     },
     "execution_count": 13,
     "metadata": {},
     "output_type": "execute_result"
    }
   ],
   "source": [
    "dataset_name = 'aruba'\n",
    "dataset = pick_dataset(dataset_name)\n",
    "\n",
    "dataset['duration'] = (dataset.end_date - dataset.date).apply(lambda x: x.total_seconds())\n",
    "\n",
    "day = dt.datetime(2000, 2, 7, 6, 0, 0)\n",
    "\n",
    "dataset['day_ts'] = dataset.date.apply(lambda x: (x-day).total_seconds()%(24*3600))\n",
    "\n",
    "dataset"
   ]
  },
  {
   "cell_type": "code",
   "execution_count": 21,
   "metadata": {},
   "outputs": [
    {
     "data": {
      "text/plain": [
       "{'work': {'mean_time': '7:32:32.223780',\n",
       "  'std_time': '4:06:33.815473',\n",
       "  'mean_duration': '0:17:04.827750',\n",
       "  'std_duration': '0:20:22.581100',\n",
       "  'accuracy': 1}}"
      ]
     },
     "execution_count": 21,
     "metadata": {},
     "output_type": "execute_result"
    },
    {
     "data": {
      "image/png": "[encoded data removed]",
      "text/plain": [
       "<Figure size 432x288 with 1 Axes>"
      ]
     },
     "metadata": {},
     "output_type": "display_data"
    }
   ],
   "source": [
    "parameters = ['mean_time', 'std_time', 'mean_duration', 'std_duration', 'accuracy']\n",
    "\n",
    "behaviors = {}\n",
    "\n",
    "sleeping = {\n",
    "    'mean_time': dt.timedelta(hours=19, minutes=0).total_seconds(),\n",
    "    'std_time': dt.timedelta(hours=5, minutes=18).total_seconds(),\n",
    "    'mean_duration': dt.timedelta(hours=4, minutes=40).total_seconds(),\n",
    "    'std_duration': dt.timedelta(hours=2, minutes=20).total_seconds(),\n",
    "    'accuracy': 1\n",
    "} \n",
    "\n",
    "lunch = {\n",
    "    'mean_time': dt.timedelta(hours=13, minutes=25).total_seconds(),\n",
    "    'std_time': dt.timedelta(hours=0, minutes=30).total_seconds(),\n",
    "    'mean_duration': dt.timedelta(hours=0, minutes=40).total_seconds(),\n",
    "    'std_duration': dt.timedelta(hours=0, minutes=10).total_seconds(),\n",
    "    'accuracy': 1\n",
    "}\n",
    "\n",
    "work = {\n",
    "    'mean_time': dt.timedelta(hours=7, minutes=30).total_seconds(),\n",
    "    'std_time': dt.timedelta(hours=4, minutes=6).total_seconds(),\n",
    "    'mean_duration': dt.timedelta(hours=0, minutes=17).total_seconds(),\n",
    "    'std_duration': dt.timedelta(hours=0, minutes=21).total_seconds(),\n",
    "    'accuracy': 1\n",
    "}\n",
    "\n",
    "labels=['work']\n",
    "\n",
    "for label in labels :\n",
    "    original_behavior = {}\n",
    "    label_data = dataset[dataset.label == label]\n",
    "    # Distribution on occurrence time\n",
    "    sns.distplot(label_data.day_ts/3600)\n",
    "    mean_occ_time = label_data.day_ts.mean()\n",
    "    original_behavior['mean_time'] = str(dt.timedelta(seconds=mean_occ_time))\n",
    "    std_occ_time = label_data.day_ts.std()\n",
    "    original_behavior['std_time'] = str(dt.timedelta(seconds=std_occ_time))\n",
    "    \n",
    "    mean_duration = label_data.duration.mean()\n",
    "    original_behavior['mean_duration'] = str(dt.timedelta(seconds=mean_duration))\n",
    "    std_duration = label_data.duration.std()\n",
    "    original_behavior['std_duration'] = str(dt.timedelta(seconds=std_duration))\n",
    "    \n",
    "    original_behavior['accuracy'] = 1\n",
    "    \n",
    "    behaviors[label] = original_behavior\n",
    "\n",
    "\n",
    "behaviors"
   ]
  },
  {
   "cell_type": "code",
   "execution_count": 15,
   "metadata": {},
   "outputs": [],
   "source": [
    "x = [1,2,3,4]"
   ]
  },
  {
   "cell_type": "code",
   "execution_count": 19,
   "metadata": {},
   "outputs": [
    {
     "data": {
      "text/plain": [
       "'1:12:00'"
      ]
     },
     "execution_count": 19,
     "metadata": {},
     "output_type": "execute_result"
    }
   ],
   "source": [
    "str(dt.timedelta(hours=1.2))"
   ]
  },
  {
   "cell_type": "code",
   "execution_count": null,
   "metadata": {},
   "outputs": [],
   "source": []
  }
 ],
 "metadata": {
  "kernelspec": {
   "display_name": "Python 3",
   "language": "python",
   "name": "python3"
  },
  "language_info": {
   "codemirror_mode": {
    "name": "ipython",
    "version": 3
   },
   "file_extension": ".py",
   "mimetype": "text/x-python",
   "name": "python",
   "nbconvert_exporter": "python",
   "pygments_lexer": "ipython3",
   "version": "3.7.4"
  }
 },
 "nbformat": 4,
 "nbformat_minor": 2
}
