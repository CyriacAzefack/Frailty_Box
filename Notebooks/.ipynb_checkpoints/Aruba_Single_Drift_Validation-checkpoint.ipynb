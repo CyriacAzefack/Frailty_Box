{
 "cells": [
  {
   "cell_type": "code",
   "execution_count": 1,
   "metadata": {},
   "outputs": [],
   "source": [
    "import sys\n",
    "sys.path.append(\"../\")\n",
    "from Behavior_Drift import *\n",
    "from Data_Drift import Drift_Detector"
   ]
  },
  {
   "cell_type": "code",
   "execution_count": 2,
   "metadata": {
    "scrolled": false
   },
   "outputs": [
    {
     "name": "stdout",
     "output_type": "stream",
     "text": [
      "Starting building similarity distance_matrix...\n"
     ]
    },
    {
     "name": "stderr",
     "output_type": "stream",
     "text": [
      "Similarity Matrix Construction: 100%|██████████| 213/213 [00:05<00:00, 41.18it/s] \n"
     ]
    },
    {
     "name": "stdout",
     "output_type": "stream",
     "text": [
      "Finish building similarity distance_matrix...\n",
      "Chosen Number of Clusters : 2\n"
     ]
    }
   ],
   "source": [
    "data_name = 'ARUBA'\n",
    "\n",
    "data = pick_dataset(data_name, nb_days=-1)\n",
    "\n",
    "\n",
    "window_size = dt.timedelta(days=7)\n",
    "\n",
    "label = \"sleeping\"\n",
    "profile = \"time\"\n",
    "\n",
    "clusters_time = Drift_Detector.activity_drift_detector(data, window_size, label, validation=False, profile=\"time\")\n",
    "clusters_duration = Drift_Detector.activity_drift_detector(data, window_size, label, validation=False, profile=\"duration\")"
   ]
  },
  {
   "cell_type": "code",
   "execution_count": null,
   "metadata": {},
   "outputs": [],
   "source": []
  },
  {
   "cell_type": "code",
   "execution_count": null,
   "metadata": {},
   "outputs": [],
   "source": []
  }
 ],
 "metadata": {
  "kernelspec": {
   "display_name": "Python 3",
   "language": "python",
   "name": "python3"
  },
  "language_info": {
   "codemirror_mode": {
    "name": "ipython",
    "version": 3
   },
   "file_extension": ".py",
   "mimetype": "text/x-python",
   "name": "python",
   "nbconvert_exporter": "python",
   "pygments_lexer": "ipython3",
   "version": "3.7.4"
  }
 },
 "nbformat": 4,
 "nbformat_minor": 2
}
