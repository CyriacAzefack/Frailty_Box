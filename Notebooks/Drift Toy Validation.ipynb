{
 "cells": [
  {
   "cell_type": "code",
   "execution_count": 1,
   "metadata": {},
   "outputs": [],
   "source": [
    "import sys\n",
    "sys.path.append(\"../\")\n",
    "import pandas as pd\n",
    "import numpy as np\n",
    "import os\n",
    "from Utils import *\n",
    "import datetime as dt\n",
    "import matplotlib.pyplot as plt\n",
    "import matplotlib.dates as dat\n",
    "\n",
    "\n",
    "from sklearn.metrics import f1_score,confusion_matrix, accuracy_score\n",
    "\n",
    "import seaborn as sns\n",
    "\n",
    "sns.set_style('darkgrid')\n",
    "sns.set(font_scale=1.4) # for label size\n",
    "\n",
    "from Behavior_Drift import *"
   ]
  },
  {
   "cell_type": "code",
   "execution_count": 2,
   "metadata": {},
   "outputs": [
    {
     "name": "stdout",
     "output_type": "stream",
     "text": [
      "0.83\n"
     ]
    },
    {
     "data": {
      "text/html": [
       "<div>\n",
       "<style scoped>\n",
       "    .dataframe tbody tr th:only-of-type {\n",
       "        vertical-align: middle;\n",
       "    }\n",
       "\n",
       "    .dataframe tbody tr th {\n",
       "        vertical-align: top;\n",
       "    }\n",
       "\n",
       "    .dataframe thead th {\n",
       "        text-align: right;\n",
       "    }\n",
       "</style>\n",
       "<table border=\"1\" class=\"dataframe\">\n",
       "  <thead>\n",
       "    <tr style=\"text-align: right;\">\n",
       "      <th></th>\n",
       "      <th>id</th>\n",
       "      <th>nb_drifts</th>\n",
       "      <th>nb_behaviors_detected</th>\n",
       "      <th>silhouette</th>\n",
       "      <th>loss</th>\n",
       "      <th>mae</th>\n",
       "      <th>right</th>\n",
       "      <th>min_right</th>\n",
       "    </tr>\n",
       "  </thead>\n",
       "  <tbody>\n",
       "    <tr>\n",
       "      <th>86</th>\n",
       "      <td>44</td>\n",
       "      <td>4</td>\n",
       "      <td>4</td>\n",
       "      <td>0.736434</td>\n",
       "      <td>0.000760</td>\n",
       "      <td>0.00075976073</td>\n",
       "      <td>False</td>\n",
       "      <td>False</td>\n",
       "    </tr>\n",
       "    <tr>\n",
       "      <th>73</th>\n",
       "      <td>89</td>\n",
       "      <td>3</td>\n",
       "      <td>2</td>\n",
       "      <td>0.735013</td>\n",
       "      <td>0.000375</td>\n",
       "      <td>0.00037540367</td>\n",
       "      <td>False</td>\n",
       "      <td>False</td>\n",
       "    </tr>\n",
       "    <tr>\n",
       "      <th>50</th>\n",
       "      <td>27</td>\n",
       "      <td>3</td>\n",
       "      <td>2</td>\n",
       "      <td>0.721256</td>\n",
       "      <td>0.000613</td>\n",
       "      <td>0.0006129301</td>\n",
       "      <td>False</td>\n",
       "      <td>False</td>\n",
       "    </tr>\n",
       "    <tr>\n",
       "      <th>51</th>\n",
       "      <td>32</td>\n",
       "      <td>3</td>\n",
       "      <td>2</td>\n",
       "      <td>0.691230</td>\n",
       "      <td>0.000395</td>\n",
       "      <td>0.00039520423</td>\n",
       "      <td>False</td>\n",
       "      <td>False</td>\n",
       "    </tr>\n",
       "    <tr>\n",
       "      <th>63</th>\n",
       "      <td>62</td>\n",
       "      <td>3</td>\n",
       "      <td>2</td>\n",
       "      <td>0.672841</td>\n",
       "      <td>0.000524</td>\n",
       "      <td>0.0005241042</td>\n",
       "      <td>False</td>\n",
       "      <td>False</td>\n",
       "    </tr>\n",
       "    <tr>\n",
       "      <th>47</th>\n",
       "      <td>13</td>\n",
       "      <td>3</td>\n",
       "      <td>3</td>\n",
       "      <td>0.663412</td>\n",
       "      <td>0.000442</td>\n",
       "      <td>0.00044176163</td>\n",
       "      <td>False</td>\n",
       "      <td>False</td>\n",
       "    </tr>\n",
       "    <tr>\n",
       "      <th>68</th>\n",
       "      <td>73</td>\n",
       "      <td>3</td>\n",
       "      <td>3</td>\n",
       "      <td>0.662435</td>\n",
       "      <td>0.000351</td>\n",
       "      <td>0.0003506168</td>\n",
       "      <td>False</td>\n",
       "      <td>False</td>\n",
       "    </tr>\n",
       "    <tr>\n",
       "      <th>55</th>\n",
       "      <td>4</td>\n",
       "      <td>3</td>\n",
       "      <td>2</td>\n",
       "      <td>0.660389</td>\n",
       "      <td>0.000362</td>\n",
       "      <td>0.00036232328</td>\n",
       "      <td>False</td>\n",
       "      <td>False</td>\n",
       "    </tr>\n",
       "    <tr>\n",
       "      <th>58</th>\n",
       "      <td>49</td>\n",
       "      <td>3</td>\n",
       "      <td>3</td>\n",
       "      <td>0.659007</td>\n",
       "      <td>0.000363</td>\n",
       "      <td>0.00036298222</td>\n",
       "      <td>False</td>\n",
       "      <td>False</td>\n",
       "    </tr>\n",
       "    <tr>\n",
       "      <th>57</th>\n",
       "      <td>46</td>\n",
       "      <td>3</td>\n",
       "      <td>3</td>\n",
       "      <td>0.658453</td>\n",
       "      <td>0.000486</td>\n",
       "      <td>0.00048556618</td>\n",
       "      <td>False</td>\n",
       "      <td>False</td>\n",
       "    </tr>\n",
       "    <tr>\n",
       "      <th>56</th>\n",
       "      <td>41</td>\n",
       "      <td>3</td>\n",
       "      <td>2</td>\n",
       "      <td>0.649287</td>\n",
       "      <td>0.000312</td>\n",
       "      <td>0.00031186134</td>\n",
       "      <td>False</td>\n",
       "      <td>False</td>\n",
       "    </tr>\n",
       "    <tr>\n",
       "      <th>62</th>\n",
       "      <td>61</td>\n",
       "      <td>3</td>\n",
       "      <td>2</td>\n",
       "      <td>0.647624</td>\n",
       "      <td>0.000375</td>\n",
       "      <td>0.0003753912</td>\n",
       "      <td>False</td>\n",
       "      <td>False</td>\n",
       "    </tr>\n",
       "    <tr>\n",
       "      <th>48</th>\n",
       "      <td>15</td>\n",
       "      <td>3</td>\n",
       "      <td>5</td>\n",
       "      <td>0.647622</td>\n",
       "      <td>0.000662</td>\n",
       "      <td>0.00066203583</td>\n",
       "      <td>False</td>\n",
       "      <td>True</td>\n",
       "    </tr>\n",
       "    <tr>\n",
       "      <th>85</th>\n",
       "      <td>42</td>\n",
       "      <td>4</td>\n",
       "      <td>2</td>\n",
       "      <td>0.646320</td>\n",
       "      <td>0.000339</td>\n",
       "      <td>0.00033891847</td>\n",
       "      <td>False</td>\n",
       "      <td>False</td>\n",
       "    </tr>\n",
       "    <tr>\n",
       "      <th>89</th>\n",
       "      <td>60</td>\n",
       "      <td>4</td>\n",
       "      <td>3</td>\n",
       "      <td>0.642222</td>\n",
       "      <td>0.000398</td>\n",
       "      <td>0.00039804235</td>\n",
       "      <td>False</td>\n",
       "      <td>False</td>\n",
       "    </tr>\n",
       "    <tr>\n",
       "      <th>75</th>\n",
       "      <td>12</td>\n",
       "      <td>4</td>\n",
       "      <td>2</td>\n",
       "      <td>0.639260</td>\n",
       "      <td>0.000478</td>\n",
       "      <td>0.00047788382</td>\n",
       "      <td>False</td>\n",
       "      <td>False</td>\n",
       "    </tr>\n",
       "    <tr>\n",
       "      <th>95</th>\n",
       "      <td>85</td>\n",
       "      <td>4</td>\n",
       "      <td>2</td>\n",
       "      <td>0.599189</td>\n",
       "      <td>0.000344</td>\n",
       "      <td>0.0003441275</td>\n",
       "      <td>False</td>\n",
       "      <td>False</td>\n",
       "    </tr>\n",
       "  </tbody>\n",
       "</table>\n",
       "</div>"
      ],
      "text/plain": [
       "    id  nb_drifts  nb_behaviors_detected  silhouette      loss            mae  \\\n",
       "86  44          4                      4    0.736434  0.000760  0.00075976073   \n",
       "73  89          3                      2    0.735013  0.000375  0.00037540367   \n",
       "50  27          3                      2    0.721256  0.000613   0.0006129301   \n",
       "51  32          3                      2    0.691230  0.000395  0.00039520423   \n",
       "63  62          3                      2    0.672841  0.000524   0.0005241042   \n",
       "47  13          3                      3    0.663412  0.000442  0.00044176163   \n",
       "68  73          3                      3    0.662435  0.000351   0.0003506168   \n",
       "55   4          3                      2    0.660389  0.000362  0.00036232328   \n",
       "58  49          3                      3    0.659007  0.000363  0.00036298222   \n",
       "57  46          3                      3    0.658453  0.000486  0.00048556618   \n",
       "56  41          3                      2    0.649287  0.000312  0.00031186134   \n",
       "62  61          3                      2    0.647624  0.000375   0.0003753912   \n",
       "48  15          3                      5    0.647622  0.000662  0.00066203583   \n",
       "85  42          4                      2    0.646320  0.000339  0.00033891847   \n",
       "89  60          4                      3    0.642222  0.000398  0.00039804235   \n",
       "75  12          4                      2    0.639260  0.000478  0.00047788382   \n",
       "95  85          4                      2    0.599189  0.000344   0.0003441275   \n",
       "\n",
       "    right  min_right  \n",
       "86  False      False  \n",
       "73  False      False  \n",
       "50  False      False  \n",
       "51  False      False  \n",
       "63  False      False  \n",
       "47  False      False  \n",
       "68  False      False  \n",
       "55  False      False  \n",
       "58  False      False  \n",
       "57  False      False  \n",
       "56  False      False  \n",
       "62  False      False  \n",
       "48  False       True  \n",
       "85  False      False  \n",
       "89  False      False  \n",
       "75  False      False  \n",
       "95  False      False  "
      ]
     },
     "execution_count": 2,
     "metadata": {},
     "output_type": "execute_result"
    }
   ],
   "source": [
    "results = pd.read_csv('../output/drift_toy_results_w30_l10.csv')\n",
    "\n",
    "results['loss'] = results.AE_model_error.apply(lambda x : x.strip(\"()\").split(',')[0])\n",
    "results['mae'] = results.AE_model_error.apply(lambda x : x.strip(\"()\").split(',')[1])\n",
    "\n",
    "results = results[['id', 'nb_drifts', 'nb_behaviors_detected', 'silhouette', 'loss', 'mae']]\n",
    "\n",
    "#results = results[results.nb_drifts != 0]\n",
    "\n",
    "results['right'] = results.nb_drifts + 1 == results.nb_behaviors_detected\n",
    "\n",
    "results['min_right'] = results.nb_drifts < results.nb_behaviors_detected\n",
    "\n",
    "results['loss'] = pd.to_numeric(results.loss, errors='coerce')\n",
    "\n",
    "# results.loc[results.nb_drifts == 0, 'min_right'] = False\n",
    "\n",
    "print(len(results[results.right==True])/len(results))\n",
    "\n",
    "results[(results.right==False)].sort_values(['silhouette'], ascending=False)"
   ]
  },
  {
   "cell_type": "code",
   "execution_count": 3,
   "metadata": {},
   "outputs": [
    {
     "data": {
      "text/plain": [
       "<matplotlib.axes._subplots.AxesSubplot at 0x142ce144d48>"
      ]
     },
     "execution_count": 3,
     "metadata": {},
     "output_type": "execute_result"
    },
    {
     "name": "stderr",
     "output_type": "stream",
     "text": [
      "C:\\Users\\cyriac.azefack\\AppData\\Roaming\\Python\\Python37\\site-packages\\matplotlib\\font_manager.py:1241: UserWarning: findfont: Font family ['normal'] not found. Falling back to DejaVu Sans.\n",
      "  (prop.get_family(), self.defaultFamily[fontext]))\n"
     ]
    },
    {
     "data": {
      "image/png": "[encoded data removed]",
      "text/plain": [
       "<Figure size 432x288 with 1 Axes>"
      ]
     },
     "metadata": {
      "needs_background": "light"
     },
     "output_type": "display_data"
    }
   ],
   "source": [
    "sns.regplot(data=results, x=\"nb_drifts\", y=\"right\", fit_reg=False, marker=\"o\", color=\"skyblue\", scatter_kws={'s':40})"
   ]
  },
  {
   "cell_type": "code",
   "execution_count": 4,
   "metadata": {},
   "outputs": [
    {
     "data": {
      "text/plain": [
       "<function print>"
      ]
     },
     "execution_count": 4,
     "metadata": {},
     "output_type": "execute_result"
    },
    {
     "data": {
      "image/png": "[encoded data removed]",
      "text/plain": [
       "<Figure size 432x288 with 1 Axes>"
      ]
     },
     "metadata": {
      "needs_background": "light"
     },
     "output_type": "display_data"
    }
   ],
   "source": [
    "drift_range = [1, 2, 3, 4]\n",
    "drift_range.sort()\n",
    "conf_matrix = np.zeros((len(drift_range), len(drift_range)))\n",
    "\n",
    "for i in drift_range:\n",
    "    for j in drift_range:\n",
    "        conf_matrix[j-1][i-1] = len(results[(results.nb_drifts == i) & (results.nb_behaviors_detected == j+1)])\n",
    "\n",
    "df_cm = pd.DataFrame(conf_matrix, index=np.array(drift_range)+1, columns=np.array(drift_range)+1)\n",
    "\n",
    "\n",
    "sns.heatmap(df_cm, annot=True, annot_kws={\"size\": 16}, cbar=False, cmap='Blues') # font size\n",
    "plt.ylabel(\"Number of behaviors detected\")\n",
    "plt.xlabel(\"Number of behaviors present\")\n",
    "\n",
    "print"
   ]
  },
  {
   "cell_type": "code",
   "execution_count": 5,
   "metadata": {},
   "outputs": [],
   "source": [
    "right_results = results[results.nb_drifts == 0]\n",
    "wrong_results = results[results.nb_drifts != 0]"
   ]
  },
  {
   "cell_type": "code",
   "execution_count": 6,
   "metadata": {},
   "outputs": [
    {
     "data": {
      "text/plain": [
       "(-0.25, 1)"
      ]
     },
     "execution_count": 6,
     "metadata": {},
     "output_type": "execute_result"
    },
    {
     "data": {
      "image/png": "[encoded data removed]",
      "text/plain": [
       "<Figure size 432x288 with 1 Axes>"
      ]
     },
     "metadata": {
      "needs_background": "light"
     },
     "output_type": "display_data"
    }
   ],
   "source": [
    "# Silhouette\n",
    "\n",
    "sns.kdeplot(right_results.loss, shade=True, color=\"g\", label='no drift')\n",
    "sns.kdeplot(wrong_results.loss, shade=True, color=\"r\", label='drift')\n",
    "plt.xlim([-0.25, 1])"
   ]
  },
  {
   "cell_type": "code",
   "execution_count": 7,
   "metadata": {},
   "outputs": [
    {
     "data": {
      "text/plain": [
       "0.8222265060560545"
      ]
     },
     "execution_count": 7,
     "metadata": {},
     "output_type": "execute_result"
    }
   ],
   "source": [
    "y_true = results.nb_drifts.values + 1\n",
    "y_pred = results.nb_behaviors_detected.values\n",
    "\n",
    "\n",
    "f1_score(y_true, y_pred, average='weighted')"
   ]
  },
  {
   "cell_type": "code",
   "execution_count": 8,
   "metadata": {},
   "outputs": [
    {
     "name": "stdout",
     "output_type": "stream",
     "text": [
      "[2 2 2 2 2 2 2 2 2 2 2 2 2 2 2 2 2 2 2 2 2 2 2 2 2 2 3 3 3 3 3 3 3 3 3 3 3\n",
      " 3 3 3 3 3 3 3 3 3 3 4 4 4 4 4 4 4 4 4 4 4 4 4 4 4 4 4 4 4 4 4 4 4 4 4 4 4\n",
      " 4 5 5 5 5 5 5 5 5 5 5 5 5 5 5 5 5 5 5 5 5 5 5 5 5 5]\n",
      "[2 2 2 2 2 2 2 2 2 2 2 2 2 2 2 2 2 2 2 2 2 2 2 2 2 2 3 3 3 3 3 3 3 3 3 3 3\n",
      " 3 3 3 3 3 3 3 3 3 3 3 5 4 2 2 4 4 4 2 2 3 3 4 4 4 2 2 4 4 4 4 3 4 4 4 4 2\n",
      " 4 2 5 5 5 5 5 5 5 5 5 2 4 5 5 3 5 5 5 5 5 2 5 5 5 5]\n"
     ]
    },
    {
     "data": {
      "text/plain": [
       "(0.5, 1.05)"
      ]
     },
     "execution_count": 8,
     "metadata": {},
     "output_type": "execute_result"
    },
    {
     "data": {
      "image/png": "[encoded data removed]",
      "text/plain": [
       "<Figure size 432x288 with 1 Axes>"
      ]
     },
     "metadata": {
      "needs_background": "light"
     },
     "output_type": "display_data"
    }
   ],
   "source": [
    "scores = []\n",
    "print(y_true)\n",
    "print(y_pred)\n",
    "for n in drift_range :\n",
    "    \n",
    "    n_results = results[results.nb_drifts == n]\n",
    "    \n",
    "    n_y_true = n_results.nb_drifts.values + 1\n",
    "    n_y_pred = n_results.nb_behaviors_detected.values\n",
    "    \n",
    "    score = accuracy_score(n_y_true, n_y_pred)\n",
    "    scores.append(score)\n",
    "\n",
    "plt.figure()\n",
    "plt.plot(np.asarray(drift_range)+1, scores, marker='o', markersize=12)\n",
    "plt.xlabel('Number of behaviors present')\n",
    "plt.ylabel('Detection Accuracy')\n",
    "plt.ylim([0.5, 1.05])"
   ]
  },
  {
   "cell_type": "code",
   "execution_count": 9,
   "metadata": {},
   "outputs": [
    {
     "data": {
      "text/plain": [
       "0.8428571428571427"
      ]
     },
     "execution_count": 9,
     "metadata": {},
     "output_type": "execute_result"
    }
   ],
   "source": [
    "np.mean(scores)"
   ]
  },
  {
   "cell_type": "code",
   "execution_count": 10,
   "metadata": {},
   "outputs": [
    {
     "data": {
      "text/plain": [
       "Text(0, 0.5, 'Silhouette score')"
      ]
     },
     "execution_count": 10,
     "metadata": {},
     "output_type": "execute_result"
    },
    {
     "data": {
      "image/png": "[encoded data removed]",
      "text/plain": [
       "<Figure size 432x288 with 1 Axes>"
      ]
     },
     "metadata": {
      "needs_background": "light"
     },
     "output_type": "display_data"
    }
   ],
   "source": [
    "results.nb_drifts += 1\n",
    "sns.boxplot(x=\"nb_drifts\", y=\"loss\", data=results, palette=\"Set3\")\n",
    "plt.xlabel('Number of behaviors present')\n",
    "plt.ylabel('Silhouette score')"
   ]
  },
  {
   "cell_type": "code",
   "execution_count": null,
   "metadata": {},
   "outputs": [],
   "source": []
  }
 ],
 "metadata": {
  "kernelspec": {
   "display_name": "Python 3",
   "language": "python",
   "name": "python3"
  },
  "language_info": {
   "codemirror_mode": {
    "name": "ipython",
    "version": 3
   },
   "file_extension": ".py",
   "mimetype": "text/x-python",
   "name": "python",
   "nbconvert_exporter": "python",
   "pygments_lexer": "ipython3",
   "version": "3.7.4"
  }
 },
 "nbformat": 4,
 "nbformat_minor": 2
}
